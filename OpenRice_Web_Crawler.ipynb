{
  "nbformat": 4,
  "nbformat_minor": 0,
  "metadata": {
    "kernelspec": {
      "display_name": "Python 3",
      "language": "python",
      "name": "python3"
    },
    "language_info": {
      "codemirror_mode": {
        "name": "ipython",
        "version": 3
      },
      "file_extension": ".py",
      "mimetype": "text/x-python",
      "name": "python",
      "nbconvert_exporter": "python",
      "pygments_lexer": "ipython3",
      "version": "3.6.8"
    },
    "colab": {
      "name": "OpenRice Web Crawler.ipynb",
      "provenance": [],
      "collapsed_sections": []
    }
  },
  "cells": [
    {
      "cell_type": "markdown",
      "metadata": {
        "id": "qUMFyzqiLHFv"
      },
      "source": [
        "**To scrap the data from Openrice about a local Hong Kong restaurant called \"百份百餐廳\"**"
      ]
    },
    {
      "cell_type": "code",
      "metadata": {
        "id": "jV4kAdmjauND"
      },
      "source": [
        "import requests\n",
        "import re\n",
        "import pandas as pd\n",
        "from bs4 import BeautifulSoup"
      ],
      "execution_count": 1,
      "outputs": []
    },
    {
      "cell_type": "code",
      "metadata": {
        "id": "c_b00hvWauNP"
      },
      "source": [
        "landingPage = \"https://www.openrice.com/zh/hongkong/restaurants?what=%E7%99%BE%E4%BB%BD%E7%99%BECAFE\"\n",
        "r = requests.get(landingPage, headers={'User-Agent': 'Mozilla/5.0'})\n",
        "html_text = r.text\n",
        "bs = BeautifulSoup(html_text,\"html.parser\")\n"
      ],
      "execution_count": 2,
      "outputs": []
    },
    {
      "cell_type": "code",
      "metadata": {
        "id": "lcw4bTzTMOi_"
      },
      "source": [
        "page = '&page='\n",
        "restaurants = []\n",
        "websites = []\n",
        "\n",
        "webpage = len(bs.find_all('a',({'class':'pagination-button'}))) - 1\n",
        "\n",
        "for i in range(webpage):\n",
        "  r = requests.get(landingPage + page + str(i+1) , headers={'User-Agent': 'Mozilla/5.0'})\n",
        "  restaurant = len(bs.find_all('h2', {'class':'title-name'}))\n",
        "  [restaurants.append(bs.find_all('h2', {'class':'title-name'})[j].find('a').text) for j in range(restaurant)]\n",
        "  [websites.append(bs.find_all('h2', {'class':'title-name'})[j].find('a').get(\"href\")) for j in range(restaurant)]\n",
        "  "
      ],
      "execution_count": 4,
      "outputs": []
    },
    {
      "cell_type": "markdown",
      "metadata": {
        "id": "BRdTvNyiNoQt"
      },
      "source": [
        "**Number of restaurant :**"
      ]
    },
    {
      "cell_type": "code",
      "metadata": {
        "colab": {
          "base_uri": "https://localhost:8080/"
        },
        "id": "ubHknuedNmY_",
        "outputId": "82549707-c642-4bcc-f161-b81e15e3c4f3"
      },
      "source": [
        "print(len(restaurants))\n",
        "restaurants"
      ],
      "execution_count": 5,
      "outputs": [
        {
          "output_type": "stream",
          "text": [
            "45\n"
          ],
          "name": "stdout"
        },
        {
          "output_type": "execute_result",
          "data": {
            "text/plain": [
              "['百份百餐廳 (啟朗苑) Cafe 100% (Kai Long Court)',\n",
              " '百份百餐廳 (九龍酒店) Cafe 100% (The Kowloon Hotel)',\n",
              " '百份百餐廳 (元州街) Cafe 100% (Un Chau Street)',\n",
              " '百份百餐廳 (明德商場) Cafe 100% (Ming Tak Shopping Centre)',\n",
              " '百份百餐廳 (逸峰廣場) Cafe 100% (Green Code Plaza)',\n",
              " '百份百餐廳 (南豐廣場) Cafe 100% (Nan Fung Plaza)',\n",
              " '百份百餐廳 (交通廣場) Café 100% (Transport Plaza)',\n",
              " '百份百餐廳 (大興商場) Cafe 100% (Tai Hing Shopping Centre)',\n",
              " '百份百餐廳 (荃薈商場) Cafe 100% (Smartland)',\n",
              " '百份百餐廳 (藍灣廣場) Cafe 100% (Island Resort Mall)',\n",
              " '百份百餐廳 (翠屏北邨) Cafe 100% (Tsui Ping (North) Estate)',\n",
              " '百份百餐廳 (天澤商場) Cafe 100% (Tin Chak Shopping Centre)',\n",
              " '百份百餐廳 (石硤尾邨) Cafe 100% (Shek Kip Mei Estate)',\n",
              " '百份百餐廳 (華心商場) Cafe 100% (Wah Sum Shopping Centre)',\n",
              " '百份百餐廳 (黃埔天地家居庭) Café 100% (Home World (Site 12))',\n",
              " '百份百餐廳 (啟朗苑) Cafe 100% (Kai Long Court)',\n",
              " '百份百餐廳 (九龍酒店) Cafe 100% (The Kowloon Hotel)',\n",
              " '百份百餐廳 (元州街) Cafe 100% (Un Chau Street)',\n",
              " '百份百餐廳 (明德商場) Cafe 100% (Ming Tak Shopping Centre)',\n",
              " '百份百餐廳 (逸峰廣場) Cafe 100% (Green Code Plaza)',\n",
              " '百份百餐廳 (南豐廣場) Cafe 100% (Nan Fung Plaza)',\n",
              " '百份百餐廳 (交通廣場) Café 100% (Transport Plaza)',\n",
              " '百份百餐廳 (大興商場) Cafe 100% (Tai Hing Shopping Centre)',\n",
              " '百份百餐廳 (荃薈商場) Cafe 100% (Smartland)',\n",
              " '百份百餐廳 (藍灣廣場) Cafe 100% (Island Resort Mall)',\n",
              " '百份百餐廳 (翠屏北邨) Cafe 100% (Tsui Ping (North) Estate)',\n",
              " '百份百餐廳 (天澤商場) Cafe 100% (Tin Chak Shopping Centre)',\n",
              " '百份百餐廳 (石硤尾邨) Cafe 100% (Shek Kip Mei Estate)',\n",
              " '百份百餐廳 (華心商場) Cafe 100% (Wah Sum Shopping Centre)',\n",
              " '百份百餐廳 (黃埔天地家居庭) Café 100% (Home World (Site 12))',\n",
              " '百份百餐廳 (啟朗苑) Cafe 100% (Kai Long Court)',\n",
              " '百份百餐廳 (九龍酒店) Cafe 100% (The Kowloon Hotel)',\n",
              " '百份百餐廳 (元州街) Cafe 100% (Un Chau Street)',\n",
              " '百份百餐廳 (明德商場) Cafe 100% (Ming Tak Shopping Centre)',\n",
              " '百份百餐廳 (逸峰廣場) Cafe 100% (Green Code Plaza)',\n",
              " '百份百餐廳 (南豐廣場) Cafe 100% (Nan Fung Plaza)',\n",
              " '百份百餐廳 (交通廣場) Café 100% (Transport Plaza)',\n",
              " '百份百餐廳 (大興商場) Cafe 100% (Tai Hing Shopping Centre)',\n",
              " '百份百餐廳 (荃薈商場) Cafe 100% (Smartland)',\n",
              " '百份百餐廳 (藍灣廣場) Cafe 100% (Island Resort Mall)',\n",
              " '百份百餐廳 (翠屏北邨) Cafe 100% (Tsui Ping (North) Estate)',\n",
              " '百份百餐廳 (天澤商場) Cafe 100% (Tin Chak Shopping Centre)',\n",
              " '百份百餐廳 (石硤尾邨) Cafe 100% (Shek Kip Mei Estate)',\n",
              " '百份百餐廳 (華心商場) Cafe 100% (Wah Sum Shopping Centre)',\n",
              " '百份百餐廳 (黃埔天地家居庭) Café 100% (Home World (Site 12))']"
            ]
          },
          "metadata": {},
          "execution_count": 5
        }
      ]
    },
    {
      "cell_type": "markdown",
      "metadata": {
        "id": "Ql-NETSeNvkU"
      },
      "source": [
        "**Links of Openrice of each restaurant**"
      ]
    },
    {
      "cell_type": "code",
      "metadata": {
        "colab": {
          "base_uri": "https://localhost:8080/"
        },
        "id": "LvTa4KuLNuss",
        "outputId": "e03b4238-ceb0-4489-fde7-3a7d83b86865"
      },
      "source": [
        "print(len(websites))\n",
        "websites"
      ],
      "execution_count": 6,
      "outputs": [
        {
          "output_type": "stream",
          "text": [
            "45\n"
          ],
          "name": "stdout"
        },
        {
          "output_type": "execute_result",
          "data": {
            "text/plain": [
              "['/zh/hongkong/r-%E7%99%BE%E4%BB%BD%E7%99%BE%E9%A4%90%E5%BB%B3-%E4%B9%9D%E9%BE%8D%E5%9F%8E-%E6%B8%AF%E5%BC%8F-r647455',\n",
              " '/zh/hongkong/r-%E7%99%BE%E4%BB%BD%E7%99%BE%E9%A4%90%E5%BB%B3-%E5%B0%96%E6%B2%99%E5%92%80-%E6%B8%AF%E5%BC%8F-r640136',\n",
              " '/zh/hongkong/r-%E7%99%BE%E4%BB%BD%E7%99%BE%E9%A4%90%E5%BB%B3-%E9%95%B7%E6%B2%99%E7%81%A3-%E6%B8%AF%E5%BC%8F-r501040',\n",
              " '/zh/hongkong/r-%E7%99%BE%E4%BB%BD%E7%99%BE%E9%A4%90%E5%BB%B3-%E5%B0%87%E8%BB%8D%E6%BE%B3-%E6%B8%AF%E5%BC%8F-r20320',\n",
              " '/zh/hongkong/r-%E7%99%BE%E4%BB%BD%E7%99%BE%E9%A4%90%E5%BB%B3-%E7%B2%89%E5%B6%BA-%E6%B8%AF%E5%BC%8F-r493480',\n",
              " '/zh/hongkong/r-%E7%99%BE%E4%BB%BD%E7%99%BE%E9%A4%90%E5%BB%B3-%E5%B0%87%E8%BB%8D%E6%BE%B3-%E6%B8%AF%E5%BC%8F-r571746',\n",
              " '/zh/hongkong/r-%E7%99%BE%E4%BB%BD%E7%99%BE%E9%A4%90%E5%BB%B3-%E5%85%83%E6%9C%97-%E6%B8%AF%E5%BC%8F-r599860',\n",
              " '/zh/hongkong/r-%E7%99%BE%E4%BB%BD%E7%99%BE%E9%A4%90%E5%BB%B3-%E5%B1%AF%E9%96%80-%E6%B8%AF%E5%BC%8F-r621182',\n",
              " '/zh/hongkong/r-%E7%99%BE%E4%BB%BD%E7%99%BE%E9%A4%90%E5%BB%B3-%E8%8D%83%E7%81%A3-%E6%B8%AF%E5%BC%8F-r666247',\n",
              " '/zh/hongkong/r-%E7%99%BE%E4%BB%BD%E7%99%BE%E9%A4%90%E5%BB%B3-%E6%9F%B4%E7%81%A3-%E6%B8%AF%E5%BC%8F-r162740',\n",
              " '/zh/hongkong/r-%E7%99%BE%E4%BB%BD%E7%99%BE%E9%A4%90%E5%BB%B3-%E8%A7%80%E5%A1%98-%E6%B8%AF%E5%BC%8F-r47077',\n",
              " '/zh/hongkong/r-%E7%99%BE%E4%BB%BD%E7%99%BE%E9%A4%90%E5%BB%B3-%E5%A4%A9%E6%B0%B4%E5%9C%8D-%E6%B8%AF%E5%BC%8F-r523124',\n",
              " '/zh/hongkong/r-%E7%99%BE%E4%BB%BD%E7%99%BE%E9%A4%90%E5%BB%B3-%E6%B7%B1%E6%B0%B4%E5%9F%97-%E6%B8%AF%E5%BC%8F-r640108',\n",
              " '/zh/hongkong/r-%E7%99%BE%E4%BB%BD%E7%99%BE%E9%A4%90%E5%BB%B3-%E7%B2%89%E5%B6%BA-%E6%B8%AF%E5%BC%8F-r123189',\n",
              " '/zh/hongkong/r-%E7%99%BE%E4%BB%BD%E7%99%BE%E9%A4%90%E5%BB%B3-%E7%B4%85%E7%A3%A1-%E6%B8%AF%E5%BC%8F-r599489',\n",
              " '/zh/hongkong/r-%E7%99%BE%E4%BB%BD%E7%99%BE%E9%A4%90%E5%BB%B3-%E4%B9%9D%E9%BE%8D%E5%9F%8E-%E6%B8%AF%E5%BC%8F-r647455',\n",
              " '/zh/hongkong/r-%E7%99%BE%E4%BB%BD%E7%99%BE%E9%A4%90%E5%BB%B3-%E5%B0%96%E6%B2%99%E5%92%80-%E6%B8%AF%E5%BC%8F-r640136',\n",
              " '/zh/hongkong/r-%E7%99%BE%E4%BB%BD%E7%99%BE%E9%A4%90%E5%BB%B3-%E9%95%B7%E6%B2%99%E7%81%A3-%E6%B8%AF%E5%BC%8F-r501040',\n",
              " '/zh/hongkong/r-%E7%99%BE%E4%BB%BD%E7%99%BE%E9%A4%90%E5%BB%B3-%E5%B0%87%E8%BB%8D%E6%BE%B3-%E6%B8%AF%E5%BC%8F-r20320',\n",
              " '/zh/hongkong/r-%E7%99%BE%E4%BB%BD%E7%99%BE%E9%A4%90%E5%BB%B3-%E7%B2%89%E5%B6%BA-%E6%B8%AF%E5%BC%8F-r493480',\n",
              " '/zh/hongkong/r-%E7%99%BE%E4%BB%BD%E7%99%BE%E9%A4%90%E5%BB%B3-%E5%B0%87%E8%BB%8D%E6%BE%B3-%E6%B8%AF%E5%BC%8F-r571746',\n",
              " '/zh/hongkong/r-%E7%99%BE%E4%BB%BD%E7%99%BE%E9%A4%90%E5%BB%B3-%E5%85%83%E6%9C%97-%E6%B8%AF%E5%BC%8F-r599860',\n",
              " '/zh/hongkong/r-%E7%99%BE%E4%BB%BD%E7%99%BE%E9%A4%90%E5%BB%B3-%E5%B1%AF%E9%96%80-%E6%B8%AF%E5%BC%8F-r621182',\n",
              " '/zh/hongkong/r-%E7%99%BE%E4%BB%BD%E7%99%BE%E9%A4%90%E5%BB%B3-%E8%8D%83%E7%81%A3-%E6%B8%AF%E5%BC%8F-r666247',\n",
              " '/zh/hongkong/r-%E7%99%BE%E4%BB%BD%E7%99%BE%E9%A4%90%E5%BB%B3-%E6%9F%B4%E7%81%A3-%E6%B8%AF%E5%BC%8F-r162740',\n",
              " '/zh/hongkong/r-%E7%99%BE%E4%BB%BD%E7%99%BE%E9%A4%90%E5%BB%B3-%E8%A7%80%E5%A1%98-%E6%B8%AF%E5%BC%8F-r47077',\n",
              " '/zh/hongkong/r-%E7%99%BE%E4%BB%BD%E7%99%BE%E9%A4%90%E5%BB%B3-%E5%A4%A9%E6%B0%B4%E5%9C%8D-%E6%B8%AF%E5%BC%8F-r523124',\n",
              " '/zh/hongkong/r-%E7%99%BE%E4%BB%BD%E7%99%BE%E9%A4%90%E5%BB%B3-%E6%B7%B1%E6%B0%B4%E5%9F%97-%E6%B8%AF%E5%BC%8F-r640108',\n",
              " '/zh/hongkong/r-%E7%99%BE%E4%BB%BD%E7%99%BE%E9%A4%90%E5%BB%B3-%E7%B2%89%E5%B6%BA-%E6%B8%AF%E5%BC%8F-r123189',\n",
              " '/zh/hongkong/r-%E7%99%BE%E4%BB%BD%E7%99%BE%E9%A4%90%E5%BB%B3-%E7%B4%85%E7%A3%A1-%E6%B8%AF%E5%BC%8F-r599489',\n",
              " '/zh/hongkong/r-%E7%99%BE%E4%BB%BD%E7%99%BE%E9%A4%90%E5%BB%B3-%E4%B9%9D%E9%BE%8D%E5%9F%8E-%E6%B8%AF%E5%BC%8F-r647455',\n",
              " '/zh/hongkong/r-%E7%99%BE%E4%BB%BD%E7%99%BE%E9%A4%90%E5%BB%B3-%E5%B0%96%E6%B2%99%E5%92%80-%E6%B8%AF%E5%BC%8F-r640136',\n",
              " '/zh/hongkong/r-%E7%99%BE%E4%BB%BD%E7%99%BE%E9%A4%90%E5%BB%B3-%E9%95%B7%E6%B2%99%E7%81%A3-%E6%B8%AF%E5%BC%8F-r501040',\n",
              " '/zh/hongkong/r-%E7%99%BE%E4%BB%BD%E7%99%BE%E9%A4%90%E5%BB%B3-%E5%B0%87%E8%BB%8D%E6%BE%B3-%E6%B8%AF%E5%BC%8F-r20320',\n",
              " '/zh/hongkong/r-%E7%99%BE%E4%BB%BD%E7%99%BE%E9%A4%90%E5%BB%B3-%E7%B2%89%E5%B6%BA-%E6%B8%AF%E5%BC%8F-r493480',\n",
              " '/zh/hongkong/r-%E7%99%BE%E4%BB%BD%E7%99%BE%E9%A4%90%E5%BB%B3-%E5%B0%87%E8%BB%8D%E6%BE%B3-%E6%B8%AF%E5%BC%8F-r571746',\n",
              " '/zh/hongkong/r-%E7%99%BE%E4%BB%BD%E7%99%BE%E9%A4%90%E5%BB%B3-%E5%85%83%E6%9C%97-%E6%B8%AF%E5%BC%8F-r599860',\n",
              " '/zh/hongkong/r-%E7%99%BE%E4%BB%BD%E7%99%BE%E9%A4%90%E5%BB%B3-%E5%B1%AF%E9%96%80-%E6%B8%AF%E5%BC%8F-r621182',\n",
              " '/zh/hongkong/r-%E7%99%BE%E4%BB%BD%E7%99%BE%E9%A4%90%E5%BB%B3-%E8%8D%83%E7%81%A3-%E6%B8%AF%E5%BC%8F-r666247',\n",
              " '/zh/hongkong/r-%E7%99%BE%E4%BB%BD%E7%99%BE%E9%A4%90%E5%BB%B3-%E6%9F%B4%E7%81%A3-%E6%B8%AF%E5%BC%8F-r162740',\n",
              " '/zh/hongkong/r-%E7%99%BE%E4%BB%BD%E7%99%BE%E9%A4%90%E5%BB%B3-%E8%A7%80%E5%A1%98-%E6%B8%AF%E5%BC%8F-r47077',\n",
              " '/zh/hongkong/r-%E7%99%BE%E4%BB%BD%E7%99%BE%E9%A4%90%E5%BB%B3-%E5%A4%A9%E6%B0%B4%E5%9C%8D-%E6%B8%AF%E5%BC%8F-r523124',\n",
              " '/zh/hongkong/r-%E7%99%BE%E4%BB%BD%E7%99%BE%E9%A4%90%E5%BB%B3-%E6%B7%B1%E6%B0%B4%E5%9F%97-%E6%B8%AF%E5%BC%8F-r640108',\n",
              " '/zh/hongkong/r-%E7%99%BE%E4%BB%BD%E7%99%BE%E9%A4%90%E5%BB%B3-%E7%B2%89%E5%B6%BA-%E6%B8%AF%E5%BC%8F-r123189',\n",
              " '/zh/hongkong/r-%E7%99%BE%E4%BB%BD%E7%99%BE%E9%A4%90%E5%BB%B3-%E7%B4%85%E7%A3%A1-%E6%B8%AF%E5%BC%8F-r599489']"
            ]
          },
          "metadata": {},
          "execution_count": 6
        }
      ]
    },
    {
      "cell_type": "code",
      "metadata": {
        "id": "HJgcUtQpOOtg"
      },
      "source": [
        ""
      ],
      "execution_count": null,
      "outputs": []
    },
    {
      "cell_type": "code",
      "metadata": {
        "id": "ebuhruQFauPE"
      },
      "source": [
        ""
      ],
      "execution_count": null,
      "outputs": []
    },
    {
      "cell_type": "code",
      "metadata": {
        "id": "A1wLNtWxauPK"
      },
      "source": [
        ""
      ],
      "execution_count": null,
      "outputs": []
    }
  ]
}