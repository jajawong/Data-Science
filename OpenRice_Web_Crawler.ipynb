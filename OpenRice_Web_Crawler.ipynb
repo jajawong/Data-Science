{
  "nbformat": 4,
  "nbformat_minor": 0,
  "metadata": {
    "kernelspec": {
      "display_name": "Python 3",
      "language": "python",
      "name": "python3"
    },
    "language_info": {
      "codemirror_mode": {
        "name": "ipython",
        "version": 3
      },
      "file_extension": ".py",
      "mimetype": "text/x-python",
      "name": "python",
      "nbconvert_exporter": "python",
      "pygments_lexer": "ipython3",
      "version": "3.6.8"
    },
    "colab": {
      "name": "OpenRice Web Crawler.ipynb",
      "provenance": [],
      "collapsed_sections": []
    }
  },
  "cells": [
    {
      "cell_type": "markdown",
      "metadata": {
        "id": "qUMFyzqiLHFv"
      },
      "source": [
        "**To scrap the data from Openrice about a local Hong Kong restaurant called \"百份百餐廳\"**"
      ]
    },
    {
      "cell_type": "code",
      "metadata": {
        "id": "jV4kAdmjauND"
      },
      "source": [
        "import requests\n",
        "import re\n",
        "import pandas as pd\n",
        "from bs4 import BeautifulSoup"
      ],
      "execution_count": null,
      "outputs": []
    },
    {
      "cell_type": "code",
      "metadata": {
        "id": "c_b00hvWauNP"
      },
      "source": [
        "landingPage = \"https://www.openrice.com/zh/hongkong/restaurants?what=%E7%99%BE%E4%BB%BD%E7%99%BECAFE\"\n",
        "r = requests.get(landingPage, headers={'User-Agent': 'Mozilla/5.0'})\n",
        "html_text = r.text\n",
        "bs = BeautifulSoup(html_text,\"html.parser\")\n"
      ],
      "execution_count": null,
      "outputs": []
    },
    {
      "cell_type": "code",
      "metadata": {
        "id": "lcw4bTzTMOi_"
      },
      "source": [
        "page = '&page='\n",
        "restaurants = []\n",
        "websites = []\n",
        "\n",
        "webpage = len(bs.find_all('a',({'class':'pagination-button'}))) - 1\n",
        "\n",
        "for i in range(webpage):\n",
        "  r = requests.get(landingPage + page + str(j+1) , headers={'User-Agent': 'Mozilla/5.0'})\n",
        "  restaurant = len(bs.find_all('h2', {'class':'title-name'}))\n",
        "  [restaurants.append(bs.find_all('h2', {'class':'title-name'})[j].find('a').text) for j in range(restaurant)]\n",
        "  [websites.append(bs.find_all('h2', {'class':'title-name'})[j].find('a').get(\"href\")) for j in range(restaurant)]\n",
        "  "
      ],
      "execution_count": null,
      "outputs": []
    },
    {
      "cell_type": "markdown",
      "metadata": {
        "id": "BRdTvNyiNoQt"
      },
      "source": [
        "**Number of restaurant :**"
      ]
    },
    {
      "cell_type": "code",
      "metadata": {
        "colab": {
          "base_uri": "https://localhost:8080/"
        },
        "id": "ubHknuedNmY_",
        "outputId": "34195695-212f-4936-f0c9-26b901d47d22"
      },
      "source": [
        "print(len(restaurants))\n",
        "restaurants"
      ],
      "execution_count": null,
      "outputs": [
        {
          "output_type": "stream",
          "text": [
            "45\n"
          ],
          "name": "stdout"
        },
        {
          "output_type": "execute_result",
          "data": {
            "text/plain": [
              "['百份百餐廳 (啟朗苑) Cafe 100% (Kai Long Court)',\n",
              " '百份百餐廳 (九龍酒店) Cafe 100% (The Kowloon Hotel)',\n",
              " '百份百餐廳 (元州街) Cafe 100% (Un Chau Street)',\n",
              " '百份百餐廳 (逸峰廣場) Cafe 100% (Green Code Plaza)',\n",
              " '百份百餐廳 (南豐廣場) Cafe 100% (Nan Fung Plaza)',\n",
              " '百份百餐廳 (明德商場) Cafe 100% (Ming Tak Shopping Centre)',\n",
              " '百份百餐廳 (交通廣場) Café 100% (Transport Plaza)',\n",
              " '百份百餐廳 (大興商場) Cafe 100% (Tai Hing Shopping Centre)',\n",
              " '百份百餐廳 (荃薈商場) Cafe 100% (Smartland)',\n",
              " '百份百餐廳 (翠屏北邨) Cafe 100% (Tsui Ping (North) Estate)',\n",
              " '百份百餐廳 (天澤商場) Cafe 100% (Tin Chak Shopping Centre)',\n",
              " '百份百餐廳 (藍灣廣場) Cafe 100% (Island Resort Mall)',\n",
              " '百份百餐廳 (石硤尾邨) Cafe 100% (Shek Kip Mei Estate)',\n",
              " '百份百餐廳 (華心商場) Cafe 100% (Wah Sum Shopping Centre)',\n",
              " '百份百餐廳 (黃埔天地家居庭) Café 100% (Home World (Site 12))',\n",
              " '百份百餐廳 (啟朗苑) Cafe 100% (Kai Long Court)',\n",
              " '百份百餐廳 (九龍酒店) Cafe 100% (The Kowloon Hotel)',\n",
              " '百份百餐廳 (元州街) Cafe 100% (Un Chau Street)',\n",
              " '百份百餐廳 (逸峰廣場) Cafe 100% (Green Code Plaza)',\n",
              " '百份百餐廳 (南豐廣場) Cafe 100% (Nan Fung Plaza)',\n",
              " '百份百餐廳 (明德商場) Cafe 100% (Ming Tak Shopping Centre)',\n",
              " '百份百餐廳 (交通廣場) Café 100% (Transport Plaza)',\n",
              " '百份百餐廳 (大興商場) Cafe 100% (Tai Hing Shopping Centre)',\n",
              " '百份百餐廳 (荃薈商場) Cafe 100% (Smartland)',\n",
              " '百份百餐廳 (翠屏北邨) Cafe 100% (Tsui Ping (North) Estate)',\n",
              " '百份百餐廳 (天澤商場) Cafe 100% (Tin Chak Shopping Centre)',\n",
              " '百份百餐廳 (藍灣廣場) Cafe 100% (Island Resort Mall)',\n",
              " '百份百餐廳 (石硤尾邨) Cafe 100% (Shek Kip Mei Estate)',\n",
              " '百份百餐廳 (華心商場) Cafe 100% (Wah Sum Shopping Centre)',\n",
              " '百份百餐廳 (黃埔天地家居庭) Café 100% (Home World (Site 12))',\n",
              " '百份百餐廳 (啟朗苑) Cafe 100% (Kai Long Court)',\n",
              " '百份百餐廳 (九龍酒店) Cafe 100% (The Kowloon Hotel)',\n",
              " '百份百餐廳 (元州街) Cafe 100% (Un Chau Street)',\n",
              " '百份百餐廳 (逸峰廣場) Cafe 100% (Green Code Plaza)',\n",
              " '百份百餐廳 (南豐廣場) Cafe 100% (Nan Fung Plaza)',\n",
              " '百份百餐廳 (明德商場) Cafe 100% (Ming Tak Shopping Centre)',\n",
              " '百份百餐廳 (交通廣場) Café 100% (Transport Plaza)',\n",
              " '百份百餐廳 (大興商場) Cafe 100% (Tai Hing Shopping Centre)',\n",
              " '百份百餐廳 (荃薈商場) Cafe 100% (Smartland)',\n",
              " '百份百餐廳 (翠屏北邨) Cafe 100% (Tsui Ping (North) Estate)',\n",
              " '百份百餐廳 (天澤商場) Cafe 100% (Tin Chak Shopping Centre)',\n",
              " '百份百餐廳 (藍灣廣場) Cafe 100% (Island Resort Mall)',\n",
              " '百份百餐廳 (石硤尾邨) Cafe 100% (Shek Kip Mei Estate)',\n",
              " '百份百餐廳 (華心商場) Cafe 100% (Wah Sum Shopping Centre)',\n",
              " '百份百餐廳 (黃埔天地家居庭) Café 100% (Home World (Site 12))']"
            ]
          },
          "metadata": {
            "tags": []
          },
          "execution_count": 13
        }
      ]
    },
    {
      "cell_type": "markdown",
      "metadata": {
        "id": "Ql-NETSeNvkU"
      },
      "source": [
        "**Links of Openrice of each restaurant**"
      ]
    },
    {
      "cell_type": "code",
      "metadata": {
        "colab": {
          "base_uri": "https://localhost:8080/"
        },
        "id": "LvTa4KuLNuss",
        "outputId": "41e9623c-38f0-4554-b21b-0ddf201cffa1"
      },
      "source": [
        "print(len(websites))\n",
        "websites"
      ],
      "execution_count": null,
      "outputs": [
        {
          "output_type": "stream",
          "text": [
            "45\n"
          ],
          "name": "stdout"
        },
        {
          "output_type": "execute_result",
          "data": {
            "text/plain": [
              "['/zh/hongkong/r-%E7%99%BE%E4%BB%BD%E7%99%BE%E9%A4%90%E5%BB%B3-%E4%B9%9D%E9%BE%8D%E5%9F%8E-%E6%B8%AF%E5%BC%8F-r647455',\n",
              " '/zh/hongkong/r-%E7%99%BE%E4%BB%BD%E7%99%BE%E9%A4%90%E5%BB%B3-%E5%B0%96%E6%B2%99%E5%92%80-%E6%B8%AF%E5%BC%8F-r640136',\n",
              " '/zh/hongkong/r-%E7%99%BE%E4%BB%BD%E7%99%BE%E9%A4%90%E5%BB%B3-%E9%95%B7%E6%B2%99%E7%81%A3-%E6%B8%AF%E5%BC%8F-r501040',\n",
              " '/zh/hongkong/r-%E7%99%BE%E4%BB%BD%E7%99%BE%E9%A4%90%E5%BB%B3-%E7%B2%89%E5%B6%BA-%E6%B8%AF%E5%BC%8F-r493480',\n",
              " '/zh/hongkong/r-%E7%99%BE%E4%BB%BD%E7%99%BE%E9%A4%90%E5%BB%B3-%E5%B0%87%E8%BB%8D%E6%BE%B3-%E6%B8%AF%E5%BC%8F-r571746',\n",
              " '/zh/hongkong/r-%E7%99%BE%E4%BB%BD%E7%99%BE%E9%A4%90%E5%BB%B3-%E5%B0%87%E8%BB%8D%E6%BE%B3-%E6%B8%AF%E5%BC%8F-r20320',\n",
              " '/zh/hongkong/r-%E7%99%BE%E4%BB%BD%E7%99%BE%E9%A4%90%E5%BB%B3-%E5%85%83%E6%9C%97-%E6%B8%AF%E5%BC%8F-r599860',\n",
              " '/zh/hongkong/r-%E7%99%BE%E4%BB%BD%E7%99%BE%E9%A4%90%E5%BB%B3-%E5%B1%AF%E9%96%80-%E6%B8%AF%E5%BC%8F-r621182',\n",
              " '/zh/hongkong/r-%E7%99%BE%E4%BB%BD%E7%99%BE%E9%A4%90%E5%BB%B3-%E8%8D%83%E7%81%A3-%E6%B8%AF%E5%BC%8F-r666247',\n",
              " '/zh/hongkong/r-%E7%99%BE%E4%BB%BD%E7%99%BE%E9%A4%90%E5%BB%B3-%E8%A7%80%E5%A1%98-%E6%B8%AF%E5%BC%8F-r47077',\n",
              " '/zh/hongkong/r-%E7%99%BE%E4%BB%BD%E7%99%BE%E9%A4%90%E5%BB%B3-%E5%A4%A9%E6%B0%B4%E5%9C%8D-%E6%B8%AF%E5%BC%8F-r523124',\n",
              " '/zh/hongkong/r-%E7%99%BE%E4%BB%BD%E7%99%BE%E9%A4%90%E5%BB%B3-%E6%9F%B4%E7%81%A3-%E6%B8%AF%E5%BC%8F-r162740',\n",
              " '/zh/hongkong/r-%E7%99%BE%E4%BB%BD%E7%99%BE%E9%A4%90%E5%BB%B3-%E6%B7%B1%E6%B0%B4%E5%9F%97-%E6%B8%AF%E5%BC%8F-r640108',\n",
              " '/zh/hongkong/r-%E7%99%BE%E4%BB%BD%E7%99%BE%E9%A4%90%E5%BB%B3-%E7%B2%89%E5%B6%BA-%E6%B8%AF%E5%BC%8F-r123189',\n",
              " '/zh/hongkong/r-%E7%99%BE%E4%BB%BD%E7%99%BE%E9%A4%90%E5%BB%B3-%E7%B4%85%E7%A3%A1-%E6%B8%AF%E5%BC%8F-r599489',\n",
              " '/zh/hongkong/r-%E7%99%BE%E4%BB%BD%E7%99%BE%E9%A4%90%E5%BB%B3-%E4%B9%9D%E9%BE%8D%E5%9F%8E-%E6%B8%AF%E5%BC%8F-r647455',\n",
              " '/zh/hongkong/r-%E7%99%BE%E4%BB%BD%E7%99%BE%E9%A4%90%E5%BB%B3-%E5%B0%96%E6%B2%99%E5%92%80-%E6%B8%AF%E5%BC%8F-r640136',\n",
              " '/zh/hongkong/r-%E7%99%BE%E4%BB%BD%E7%99%BE%E9%A4%90%E5%BB%B3-%E9%95%B7%E6%B2%99%E7%81%A3-%E6%B8%AF%E5%BC%8F-r501040',\n",
              " '/zh/hongkong/r-%E7%99%BE%E4%BB%BD%E7%99%BE%E9%A4%90%E5%BB%B3-%E7%B2%89%E5%B6%BA-%E6%B8%AF%E5%BC%8F-r493480',\n",
              " '/zh/hongkong/r-%E7%99%BE%E4%BB%BD%E7%99%BE%E9%A4%90%E5%BB%B3-%E5%B0%87%E8%BB%8D%E6%BE%B3-%E6%B8%AF%E5%BC%8F-r571746',\n",
              " '/zh/hongkong/r-%E7%99%BE%E4%BB%BD%E7%99%BE%E9%A4%90%E5%BB%B3-%E5%B0%87%E8%BB%8D%E6%BE%B3-%E6%B8%AF%E5%BC%8F-r20320',\n",
              " '/zh/hongkong/r-%E7%99%BE%E4%BB%BD%E7%99%BE%E9%A4%90%E5%BB%B3-%E5%85%83%E6%9C%97-%E6%B8%AF%E5%BC%8F-r599860',\n",
              " '/zh/hongkong/r-%E7%99%BE%E4%BB%BD%E7%99%BE%E9%A4%90%E5%BB%B3-%E5%B1%AF%E9%96%80-%E6%B8%AF%E5%BC%8F-r621182',\n",
              " '/zh/hongkong/r-%E7%99%BE%E4%BB%BD%E7%99%BE%E9%A4%90%E5%BB%B3-%E8%8D%83%E7%81%A3-%E6%B8%AF%E5%BC%8F-r666247',\n",
              " '/zh/hongkong/r-%E7%99%BE%E4%BB%BD%E7%99%BE%E9%A4%90%E5%BB%B3-%E8%A7%80%E5%A1%98-%E6%B8%AF%E5%BC%8F-r47077',\n",
              " '/zh/hongkong/r-%E7%99%BE%E4%BB%BD%E7%99%BE%E9%A4%90%E5%BB%B3-%E5%A4%A9%E6%B0%B4%E5%9C%8D-%E6%B8%AF%E5%BC%8F-r523124',\n",
              " '/zh/hongkong/r-%E7%99%BE%E4%BB%BD%E7%99%BE%E9%A4%90%E5%BB%B3-%E6%9F%B4%E7%81%A3-%E6%B8%AF%E5%BC%8F-r162740',\n",
              " '/zh/hongkong/r-%E7%99%BE%E4%BB%BD%E7%99%BE%E9%A4%90%E5%BB%B3-%E6%B7%B1%E6%B0%B4%E5%9F%97-%E6%B8%AF%E5%BC%8F-r640108',\n",
              " '/zh/hongkong/r-%E7%99%BE%E4%BB%BD%E7%99%BE%E9%A4%90%E5%BB%B3-%E7%B2%89%E5%B6%BA-%E6%B8%AF%E5%BC%8F-r123189',\n",
              " '/zh/hongkong/r-%E7%99%BE%E4%BB%BD%E7%99%BE%E9%A4%90%E5%BB%B3-%E7%B4%85%E7%A3%A1-%E6%B8%AF%E5%BC%8F-r599489',\n",
              " '/zh/hongkong/r-%E7%99%BE%E4%BB%BD%E7%99%BE%E9%A4%90%E5%BB%B3-%E4%B9%9D%E9%BE%8D%E5%9F%8E-%E6%B8%AF%E5%BC%8F-r647455',\n",
              " '/zh/hongkong/r-%E7%99%BE%E4%BB%BD%E7%99%BE%E9%A4%90%E5%BB%B3-%E5%B0%96%E6%B2%99%E5%92%80-%E6%B8%AF%E5%BC%8F-r640136',\n",
              " '/zh/hongkong/r-%E7%99%BE%E4%BB%BD%E7%99%BE%E9%A4%90%E5%BB%B3-%E9%95%B7%E6%B2%99%E7%81%A3-%E6%B8%AF%E5%BC%8F-r501040',\n",
              " '/zh/hongkong/r-%E7%99%BE%E4%BB%BD%E7%99%BE%E9%A4%90%E5%BB%B3-%E7%B2%89%E5%B6%BA-%E6%B8%AF%E5%BC%8F-r493480',\n",
              " '/zh/hongkong/r-%E7%99%BE%E4%BB%BD%E7%99%BE%E9%A4%90%E5%BB%B3-%E5%B0%87%E8%BB%8D%E6%BE%B3-%E6%B8%AF%E5%BC%8F-r571746',\n",
              " '/zh/hongkong/r-%E7%99%BE%E4%BB%BD%E7%99%BE%E9%A4%90%E5%BB%B3-%E5%B0%87%E8%BB%8D%E6%BE%B3-%E6%B8%AF%E5%BC%8F-r20320',\n",
              " '/zh/hongkong/r-%E7%99%BE%E4%BB%BD%E7%99%BE%E9%A4%90%E5%BB%B3-%E5%85%83%E6%9C%97-%E6%B8%AF%E5%BC%8F-r599860',\n",
              " '/zh/hongkong/r-%E7%99%BE%E4%BB%BD%E7%99%BE%E9%A4%90%E5%BB%B3-%E5%B1%AF%E9%96%80-%E6%B8%AF%E5%BC%8F-r621182',\n",
              " '/zh/hongkong/r-%E7%99%BE%E4%BB%BD%E7%99%BE%E9%A4%90%E5%BB%B3-%E8%8D%83%E7%81%A3-%E6%B8%AF%E5%BC%8F-r666247',\n",
              " '/zh/hongkong/r-%E7%99%BE%E4%BB%BD%E7%99%BE%E9%A4%90%E5%BB%B3-%E8%A7%80%E5%A1%98-%E6%B8%AF%E5%BC%8F-r47077',\n",
              " '/zh/hongkong/r-%E7%99%BE%E4%BB%BD%E7%99%BE%E9%A4%90%E5%BB%B3-%E5%A4%A9%E6%B0%B4%E5%9C%8D-%E6%B8%AF%E5%BC%8F-r523124',\n",
              " '/zh/hongkong/r-%E7%99%BE%E4%BB%BD%E7%99%BE%E9%A4%90%E5%BB%B3-%E6%9F%B4%E7%81%A3-%E6%B8%AF%E5%BC%8F-r162740',\n",
              " '/zh/hongkong/r-%E7%99%BE%E4%BB%BD%E7%99%BE%E9%A4%90%E5%BB%B3-%E6%B7%B1%E6%B0%B4%E5%9F%97-%E6%B8%AF%E5%BC%8F-r640108',\n",
              " '/zh/hongkong/r-%E7%99%BE%E4%BB%BD%E7%99%BE%E9%A4%90%E5%BB%B3-%E7%B2%89%E5%B6%BA-%E6%B8%AF%E5%BC%8F-r123189',\n",
              " '/zh/hongkong/r-%E7%99%BE%E4%BB%BD%E7%99%BE%E9%A4%90%E5%BB%B3-%E7%B4%85%E7%A3%A1-%E6%B8%AF%E5%BC%8F-r599489']"
            ]
          },
          "metadata": {
            "tags": []
          },
          "execution_count": 14
        }
      ]
    },
    {
      "cell_type": "code",
      "metadata": {
        "id": "EK1W705mauNc",
        "colab": {
          "base_uri": "https://localhost:8080/"
        },
        "outputId": "5f74e495-3c53-4d61-f9c9-e40225cfb61c"
      },
      "source": [
        "'百份百餐廳 (啟朗苑) Cafe 100% (Kai Long Court)' in html_text"
      ],
      "execution_count": null,
      "outputs": [
        {
          "output_type": "execute_result",
          "data": {
            "text/plain": [
              "True"
            ]
          },
          "metadata": {
            "tags": []
          },
          "execution_count": 7
        }
      ]
    },
    {
      "cell_type": "code",
      "metadata": {
        "colab": {
          "base_uri": "https://localhost:8080/"
        },
        "id": "of5y7uYUFR7R",
        "outputId": "c28fedf1-9d1f-4174-8191-dedd67801e7f"
      },
      "source": [
        "restaurant = len(bs.find_all('h2', {'class':'title-name'}))\n",
        "restaurant"
      ],
      "execution_count": null,
      "outputs": [
        {
          "output_type": "execute_result",
          "data": {
            "text/plain": [
              "15"
            ]
          },
          "metadata": {
            "tags": []
          },
          "execution_count": 8
        }
      ]
    },
    {
      "cell_type": "code",
      "metadata": {
        "colab": {
          "base_uri": "https://localhost:8080/"
        },
        "id": "6lBTKqIXJ0KK",
        "outputId": "8343da3c-0c04-4a2c-c616-0270a61adfac"
      },
      "source": [
        "bs.find_all('h2', {'class':'title-name'})"
      ],
      "execution_count": null,
      "outputs": [
        {
          "output_type": "execute_result",
          "data": {
            "text/plain": [
              "[<h2 class=\"title-name\">\n",
              " <a data-ga-event='[{\"category\":\"SR2 Source\",\"action\":\".get-poi\",\"label\":\"RegionID:0;PoiId:647455;Sr:SR1\",\"value\":null}]' href=\"/zh/hongkong/r-%E7%99%BE%E4%BB%BD%E7%99%BE%E9%A4%90%E5%BB%B3-%E4%B9%9D%E9%BE%8D%E5%9F%8E-%E6%B8%AF%E5%BC%8F-r647455\">百份百餐廳 (啟朗苑) Cafe 100% (Kai Long Court)</a>\n",
              " </h2>, <h2 class=\"title-name\">\n",
              " <a data-ga-event='[{\"category\":\"SR2 Source\",\"action\":\".get-poi\",\"label\":\"RegionID:0;PoiId:640136;Sr:SR1\",\"value\":null}]' href=\"/zh/hongkong/r-%E7%99%BE%E4%BB%BD%E7%99%BE%E9%A4%90%E5%BB%B3-%E5%B0%96%E6%B2%99%E5%92%80-%E6%B8%AF%E5%BC%8F-r640136\">百份百餐廳 (九龍酒店) Cafe 100% (The Kowloon Hotel)</a>\n",
              " </h2>, <h2 class=\"title-name\">\n",
              " <a data-ga-event='[{\"category\":\"SR2 Source\",\"action\":\".get-poi\",\"label\":\"RegionID:0;PoiId:501040;Sr:SR1\",\"value\":null}]' href=\"/zh/hongkong/r-%E7%99%BE%E4%BB%BD%E7%99%BE%E9%A4%90%E5%BB%B3-%E9%95%B7%E6%B2%99%E7%81%A3-%E6%B8%AF%E5%BC%8F-r501040\">百份百餐廳 (元州街) Cafe 100% (Un Chau Street)</a>\n",
              " </h2>, <h2 class=\"title-name\">\n",
              " <a data-ga-event='[{\"category\":\"SR2 Source\",\"action\":\".get-poi\",\"label\":\"RegionID:0;PoiId:493480;Sr:SR1\",\"value\":null}]' href=\"/zh/hongkong/r-%E7%99%BE%E4%BB%BD%E7%99%BE%E9%A4%90%E5%BB%B3-%E7%B2%89%E5%B6%BA-%E6%B8%AF%E5%BC%8F-r493480\">百份百餐廳 (逸峰廣場) Cafe 100% (Green Code Plaza)</a>\n",
              " </h2>, <h2 class=\"title-name\">\n",
              " <a data-ga-event='[{\"category\":\"SR2 Source\",\"action\":\".get-poi\",\"label\":\"RegionID:0;PoiId:571746;Sr:SR1\",\"value\":null}]' href=\"/zh/hongkong/r-%E7%99%BE%E4%BB%BD%E7%99%BE%E9%A4%90%E5%BB%B3-%E5%B0%87%E8%BB%8D%E6%BE%B3-%E6%B8%AF%E5%BC%8F-r571746\">百份百餐廳 (南豐廣場) Cafe 100% (Nan Fung Plaza)</a>\n",
              " </h2>, <h2 class=\"title-name\">\n",
              " <a data-ga-event='[{\"category\":\"SR2 Source\",\"action\":\".get-poi\",\"label\":\"RegionID:0;PoiId:20320;Sr:SR1\",\"value\":null}]' href=\"/zh/hongkong/r-%E7%99%BE%E4%BB%BD%E7%99%BE%E9%A4%90%E5%BB%B3-%E5%B0%87%E8%BB%8D%E6%BE%B3-%E6%B8%AF%E5%BC%8F-r20320\">百份百餐廳 (明德商場) Cafe 100% (Ming Tak Shopping Centre)</a>\n",
              " </h2>, <h2 class=\"title-name\">\n",
              " <a data-ga-event='[{\"category\":\"SR2 Source\",\"action\":\".get-poi\",\"label\":\"RegionID:0;PoiId:599860;Sr:SR1\",\"value\":null}]' href=\"/zh/hongkong/r-%E7%99%BE%E4%BB%BD%E7%99%BE%E9%A4%90%E5%BB%B3-%E5%85%83%E6%9C%97-%E6%B8%AF%E5%BC%8F-r599860\">百份百餐廳 (交通廣場) Café 100% (Transport Plaza)</a>\n",
              " </h2>, <h2 class=\"title-name\">\n",
              " <a data-ga-event='[{\"category\":\"SR2 Source\",\"action\":\".get-poi\",\"label\":\"RegionID:0;PoiId:621182;Sr:SR1\",\"value\":null}]' href=\"/zh/hongkong/r-%E7%99%BE%E4%BB%BD%E7%99%BE%E9%A4%90%E5%BB%B3-%E5%B1%AF%E9%96%80-%E6%B8%AF%E5%BC%8F-r621182\">百份百餐廳 (大興商場) Cafe 100% (Tai Hing Shopping Centre)</a>\n",
              " </h2>, <h2 class=\"title-name\">\n",
              " <a data-ga-event='[{\"category\":\"SR2 Source\",\"action\":\".get-poi\",\"label\":\"RegionID:0;PoiId:666247;Sr:SR1\",\"value\":null}]' href=\"/zh/hongkong/r-%E7%99%BE%E4%BB%BD%E7%99%BE%E9%A4%90%E5%BB%B3-%E8%8D%83%E7%81%A3-%E6%B8%AF%E5%BC%8F-r666247\">百份百餐廳 (荃薈商場) Cafe 100% (Smartland)</a>\n",
              " </h2>, <h2 class=\"title-name\">\n",
              " <a data-ga-event='[{\"category\":\"SR2 Source\",\"action\":\".get-poi\",\"label\":\"RegionID:0;PoiId:47077;Sr:SR1\",\"value\":null}]' href=\"/zh/hongkong/r-%E7%99%BE%E4%BB%BD%E7%99%BE%E9%A4%90%E5%BB%B3-%E8%A7%80%E5%A1%98-%E6%B8%AF%E5%BC%8F-r47077\">百份百餐廳 (翠屏北邨) Cafe 100% (Tsui Ping (North) Estate)</a>\n",
              " </h2>, <h2 class=\"title-name\">\n",
              " <a data-ga-event='[{\"category\":\"SR2 Source\",\"action\":\".get-poi\",\"label\":\"RegionID:0;PoiId:523124;Sr:SR1\",\"value\":null}]' href=\"/zh/hongkong/r-%E7%99%BE%E4%BB%BD%E7%99%BE%E9%A4%90%E5%BB%B3-%E5%A4%A9%E6%B0%B4%E5%9C%8D-%E6%B8%AF%E5%BC%8F-r523124\">百份百餐廳 (天澤商場) Cafe 100% (Tin Chak Shopping Centre)</a>\n",
              " </h2>, <h2 class=\"title-name\">\n",
              " <a data-ga-event='[{\"category\":\"SR2 Source\",\"action\":\".get-poi\",\"label\":\"RegionID:0;PoiId:162740;Sr:SR1\",\"value\":null}]' href=\"/zh/hongkong/r-%E7%99%BE%E4%BB%BD%E7%99%BE%E9%A4%90%E5%BB%B3-%E6%9F%B4%E7%81%A3-%E6%B8%AF%E5%BC%8F-r162740\">百份百餐廳 (藍灣廣場) Cafe 100% (Island Resort Mall)</a>\n",
              " </h2>, <h2 class=\"title-name\">\n",
              " <a data-ga-event='[{\"category\":\"SR2 Source\",\"action\":\".get-poi\",\"label\":\"RegionID:0;PoiId:640108;Sr:SR1\",\"value\":null}]' href=\"/zh/hongkong/r-%E7%99%BE%E4%BB%BD%E7%99%BE%E9%A4%90%E5%BB%B3-%E6%B7%B1%E6%B0%B4%E5%9F%97-%E6%B8%AF%E5%BC%8F-r640108\">百份百餐廳 (石硤尾邨) Cafe 100% (Shek Kip Mei Estate)</a>\n",
              " </h2>, <h2 class=\"title-name\">\n",
              " <a data-ga-event='[{\"category\":\"SR2 Source\",\"action\":\".get-poi\",\"label\":\"RegionID:0;PoiId:123189;Sr:SR1\",\"value\":null}]' href=\"/zh/hongkong/r-%E7%99%BE%E4%BB%BD%E7%99%BE%E9%A4%90%E5%BB%B3-%E7%B2%89%E5%B6%BA-%E6%B8%AF%E5%BC%8F-r123189\">百份百餐廳 (華心商場) Cafe 100% (Wah Sum Shopping Centre)</a>\n",
              " </h2>, <h2 class=\"title-name\">\n",
              " <a data-ga-event='[{\"category\":\"SR2 Source\",\"action\":\".get-poi\",\"label\":\"RegionID:0;PoiId:599489;Sr:SR1\",\"value\":null}]' href=\"/zh/hongkong/r-%E7%99%BE%E4%BB%BD%E7%99%BE%E9%A4%90%E5%BB%B3-%E7%B4%85%E7%A3%A1-%E6%B8%AF%E5%BC%8F-r599489\">百份百餐廳 (黃埔天地家居庭) Café 100% (Home World (Site 12))</a>\n",
              " </h2>]"
            ]
          },
          "metadata": {
            "tags": []
          },
          "execution_count": 9
        }
      ]
    },
    {
      "cell_type": "code",
      "metadata": {
        "id": "HJgcUtQpOOtg"
      },
      "source": [
        ""
      ],
      "execution_count": null,
      "outputs": []
    },
    {
      "cell_type": "markdown",
      "metadata": {
        "id": "lKuw-P-iOPab"
      },
      "source": [
        "**Number of pages in Openrice**"
      ]
    },
    {
      "cell_type": "code",
      "metadata": {
        "colab": {
          "base_uri": "https://localhost:8080/"
        },
        "id": "fiKyLdXpHkw5",
        "outputId": "efdad337-ad4a-4a59-f13e-061a96f02f26"
      },
      "source": [
        " page = len(bs.find_all('a',({'class':'pagination-button'}))) - 1\n",
        " page"
      ],
      "execution_count": null,
      "outputs": [
        {
          "output_type": "execute_result",
          "data": {
            "text/plain": [
              "3"
            ]
          },
          "metadata": {
            "tags": []
          },
          "execution_count": 10
        }
      ]
    },
    {
      "cell_type": "code",
      "metadata": {
        "id": "tQ5rD-HSJoIz"
      },
      "source": [
        "#[bs.find_all('h2', {'class':'title-name'})[i].find('a').text for i in range(restaurant)]\n",
        "df1 = pd.DataFrame([bs.find_all('h2', {'class':'title-name'})[i].find('a').text for i in range(restaurant)])"
      ],
      "execution_count": null,
      "outputs": []
    },
    {
      "cell_type": "code",
      "metadata": {
        "id": "yUb9pEy6K_YW"
      },
      "source": [
        "#[bs.find_all('h2', {'class':'title-name'})[i].find('a').get(\"href\") for i in range(restaurant)]\n",
        "df2 = pd.DataFrame([bs.find_all('h2', {'class':'title-name'})[i].find('a').get(\"href\") for i in range(restaurant)])"
      ],
      "execution_count": null,
      "outputs": []
    },
    {
      "cell_type": "code",
      "metadata": {
        "colab": {
          "base_uri": "https://localhost:8080/",
          "height": 514
        },
        "id": "BWltalBpQD8i",
        "outputId": "a566f3ed-851b-44b3-98b0-8a8fc52215f1"
      },
      "source": [
        "df2"
      ],
      "execution_count": null,
      "outputs": [
        {
          "output_type": "execute_result",
          "data": {
            "text/html": [
              "<div>\n",
              "<style scoped>\n",
              "    .dataframe tbody tr th:only-of-type {\n",
              "        vertical-align: middle;\n",
              "    }\n",
              "\n",
              "    .dataframe tbody tr th {\n",
              "        vertical-align: top;\n",
              "    }\n",
              "\n",
              "    .dataframe thead th {\n",
              "        text-align: right;\n",
              "    }\n",
              "</style>\n",
              "<table border=\"1\" class=\"dataframe\">\n",
              "  <thead>\n",
              "    <tr style=\"text-align: right;\">\n",
              "      <th></th>\n",
              "      <th>0</th>\n",
              "    </tr>\n",
              "  </thead>\n",
              "  <tbody>\n",
              "    <tr>\n",
              "      <th>0</th>\n",
              "      <td>/zh/hongkong/r-%E7%99%BE%E4%BB%BD%E7%99%BE%E9%...</td>\n",
              "    </tr>\n",
              "    <tr>\n",
              "      <th>1</th>\n",
              "      <td>/zh/hongkong/r-%E7%99%BE%E4%BB%BD%E7%99%BE%E9%...</td>\n",
              "    </tr>\n",
              "    <tr>\n",
              "      <th>2</th>\n",
              "      <td>/zh/hongkong/r-%E7%99%BE%E4%BB%BD%E7%99%BE%E9%...</td>\n",
              "    </tr>\n",
              "    <tr>\n",
              "      <th>3</th>\n",
              "      <td>/zh/hongkong/r-%E7%99%BE%E4%BB%BD%E7%99%BE%E9%...</td>\n",
              "    </tr>\n",
              "    <tr>\n",
              "      <th>4</th>\n",
              "      <td>/zh/hongkong/r-%E7%99%BE%E4%BB%BD%E7%99%BE%E9%...</td>\n",
              "    </tr>\n",
              "    <tr>\n",
              "      <th>5</th>\n",
              "      <td>/zh/hongkong/r-%E7%99%BE%E4%BB%BD%E7%99%BE%E9%...</td>\n",
              "    </tr>\n",
              "    <tr>\n",
              "      <th>6</th>\n",
              "      <td>/zh/hongkong/r-%E7%99%BE%E4%BB%BD%E7%99%BE%E9%...</td>\n",
              "    </tr>\n",
              "    <tr>\n",
              "      <th>7</th>\n",
              "      <td>/zh/hongkong/r-%E7%99%BE%E4%BB%BD%E7%99%BE%E9%...</td>\n",
              "    </tr>\n",
              "    <tr>\n",
              "      <th>8</th>\n",
              "      <td>/zh/hongkong/r-%E7%99%BE%E4%BB%BD%E7%99%BE%E9%...</td>\n",
              "    </tr>\n",
              "    <tr>\n",
              "      <th>9</th>\n",
              "      <td>/zh/hongkong/r-%E7%99%BE%E4%BB%BD%E7%99%BE%E9%...</td>\n",
              "    </tr>\n",
              "    <tr>\n",
              "      <th>10</th>\n",
              "      <td>/zh/hongkong/r-%E7%99%BE%E4%BB%BD%E7%99%BE%E9%...</td>\n",
              "    </tr>\n",
              "    <tr>\n",
              "      <th>11</th>\n",
              "      <td>/zh/hongkong/r-%E7%99%BE%E4%BB%BD%E7%99%BE%E9%...</td>\n",
              "    </tr>\n",
              "    <tr>\n",
              "      <th>12</th>\n",
              "      <td>/zh/hongkong/r-%E7%99%BE%E4%BB%BD%E7%99%BE%E9%...</td>\n",
              "    </tr>\n",
              "    <tr>\n",
              "      <th>13</th>\n",
              "      <td>/zh/hongkong/r-%E7%99%BE%E4%BB%BD%E7%99%BE%E9%...</td>\n",
              "    </tr>\n",
              "    <tr>\n",
              "      <th>14</th>\n",
              "      <td>/zh/hongkong/r-%E7%99%BE%E4%BB%BD%E7%99%BE%E9%...</td>\n",
              "    </tr>\n",
              "  </tbody>\n",
              "</table>\n",
              "</div>"
            ],
            "text/plain": [
              "                                                    0\n",
              "0   /zh/hongkong/r-%E7%99%BE%E4%BB%BD%E7%99%BE%E9%...\n",
              "1   /zh/hongkong/r-%E7%99%BE%E4%BB%BD%E7%99%BE%E9%...\n",
              "2   /zh/hongkong/r-%E7%99%BE%E4%BB%BD%E7%99%BE%E9%...\n",
              "3   /zh/hongkong/r-%E7%99%BE%E4%BB%BD%E7%99%BE%E9%...\n",
              "4   /zh/hongkong/r-%E7%99%BE%E4%BB%BD%E7%99%BE%E9%...\n",
              "5   /zh/hongkong/r-%E7%99%BE%E4%BB%BD%E7%99%BE%E9%...\n",
              "6   /zh/hongkong/r-%E7%99%BE%E4%BB%BD%E7%99%BE%E9%...\n",
              "7   /zh/hongkong/r-%E7%99%BE%E4%BB%BD%E7%99%BE%E9%...\n",
              "8   /zh/hongkong/r-%E7%99%BE%E4%BB%BD%E7%99%BE%E9%...\n",
              "9   /zh/hongkong/r-%E7%99%BE%E4%BB%BD%E7%99%BE%E9%...\n",
              "10  /zh/hongkong/r-%E7%99%BE%E4%BB%BD%E7%99%BE%E9%...\n",
              "11  /zh/hongkong/r-%E7%99%BE%E4%BB%BD%E7%99%BE%E9%...\n",
              "12  /zh/hongkong/r-%E7%99%BE%E4%BB%BD%E7%99%BE%E9%...\n",
              "13  /zh/hongkong/r-%E7%99%BE%E4%BB%BD%E7%99%BE%E9%...\n",
              "14  /zh/hongkong/r-%E7%99%BE%E4%BB%BD%E7%99%BE%E9%..."
            ]
          },
          "metadata": {
            "tags": []
          },
          "execution_count": 13
        }
      ]
    },
    {
      "cell_type": "code",
      "metadata": {
        "id": "ebuhruQFauPE"
      },
      "source": [
        ""
      ],
      "execution_count": null,
      "outputs": []
    },
    {
      "cell_type": "code",
      "metadata": {
        "id": "A1wLNtWxauPK"
      },
      "source": [
        ""
      ],
      "execution_count": null,
      "outputs": []
    }
  ]
}