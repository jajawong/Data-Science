{
  "nbformat": 4,
  "nbformat_minor": 0,
  "metadata": {
    "kernelspec": {
      "display_name": "Python 3",
      "language": "python",
      "name": "python3"
    },
    "language_info": {
      "codemirror_mode": {
        "name": "ipython",
        "version": 3
      },
      "file_extension": ".py",
      "mimetype": "text/x-python",
      "name": "python",
      "nbconvert_exporter": "python",
      "pygments_lexer": "ipython3",
      "version": "3.7.7"
    },
    "colab": {
      "name": "Github 1 Clinical Trial Terminations Prediction Preproccessing.ipynb",
      "provenance": [],
      "collapsed_sections": []
    }
  },
  "cells": [
    {
      "cell_type": "code",
      "metadata": {
        "id": "fMxlnbmdElQb",
        "outputId": "6ede9082-0056-489e-ab7a-b5ae159977c6"
      },
      "source": [
        "import bz2\n",
        "import csv\n",
        "import glob\n",
        "from datetime import datetime\n",
        "import json\n",
        "import pandas as pd\n",
        "import os\n",
        "import zipfile\n",
        "from sklearn.decomposition import LatentDirichletAllocation\n",
        "from sklearn.feature_extraction.text import CountVectorizer\n",
        "from sklearn.ensemble import RandomForestClassifier\n",
        "from sklearn.model_selection import train_test_split\n",
        "from sklearn import metrics\n",
        "os.getcwd()\n",
        "#os.chdir('/')"
      ],
      "execution_count": null,
      "outputs": [
        {
          "output_type": "execute_result",
          "data": {
            "text/plain": [
              "'C:\\\\Users\\\\jasim\\\\Desktop\\\\latestfolder\\\\DataVisulization\\\\PreprocessingProjectdata'"
            ]
          },
          "metadata": {
            "tags": []
          },
          "execution_count": 1
        }
      ]
    },
    {
      "cell_type": "code",
      "metadata": {
        "id": "QNpAtIoeElQs"
      },
      "source": [
        "dfc=pd.read_csv('Completed-Study.csv')\n",
        "dft=pd.read_csv('Terminated-Study.csv')"
      ],
      "execution_count": null,
      "outputs": []
    },
    {
      "cell_type": "code",
      "metadata": {
        "id": "MRAwoysSElQt"
      },
      "source": [
        "dfc['Status']=0\n",
        "dft['Status']=1"
      ],
      "execution_count": null,
      "outputs": []
    },
    {
      "cell_type": "code",
      "metadata": {
        "id": "FKEGowqsElQu"
      },
      "source": [
        "df_merged=dfc.append(dft)"
      ],
      "execution_count": null,
      "outputs": []
    },
    {
      "cell_type": "code",
      "metadata": {
        "id": "8_DlxZEpElQv",
        "outputId": "4bf55157-779d-4e06-8574-db7e803b5a3e"
      },
      "source": [
        "df_merged.shape"
      ],
      "execution_count": null,
      "outputs": [
        {
          "output_type": "execute_result",
          "data": {
            "text/plain": [
              "(20000, 27)"
            ]
          },
          "metadata": {
            "tags": []
          },
          "execution_count": 5
        }
      ]
    },
    {
      "cell_type": "code",
      "metadata": {
        "id": "nCYnFQJ7ElQw"
      },
      "source": [
        "df_drop=df_merged.drop(['Rank','Acronym','Completion Date','NCT Number','Phases','Age','Study Results','Study Documents','Other IDs','Start Date','Primary Completion Date','First Posted','Locations','Study Results','Last Update Posted','Results First Posted','Primary Completion Date','URL'], axis=1)"
      ],
      "execution_count": null,
      "outputs": []
    },
    {
      "cell_type": "code",
      "metadata": {
        "id": "I_h_xRlaElQy"
      },
      "source": [
        "df=df_drop\n",
        "df.columns\n",
        "df=df.rename(columns={\"Outcome Measures\": \"OutcomeMeasures\",\"Sponsor/Collaborators\":\"Sponsor\",\"Study Type\":\"StudyType\",\"Study Designs\":\"StudyDesign\",\"Funded Bys\":\"FundedBys\",\"Status\":\"Target\"})"
      ],
      "execution_count": null,
      "outputs": []
    },
    {
      "cell_type": "code",
      "metadata": {
        "id": "Vwe0ilkVElQz",
        "outputId": "b4de4fcd-a8e8-4f39-eab5-667510e7f0dd"
      },
      "source": [
        "df.columns"
      ],
      "execution_count": null,
      "outputs": [
        {
          "output_type": "execute_result",
          "data": {
            "text/plain": [
              "Index(['Title', 'Target', 'Conditions', 'Interventions', 'OutcomeMeasures',\n",
              "       'Sponsor', 'Gender', 'Enrollment', 'FundedBys', 'StudyType',\n",
              "       'StudyDesign'],\n",
              "      dtype='object')"
            ]
          },
          "metadata": {
            "tags": []
          },
          "execution_count": 8
        }
      ]
    },
    {
      "cell_type": "code",
      "metadata": {
        "id": "UmhV3RbIElQ3",
        "outputId": "7cfa65a6-6315-4de3-ce84-7c7dc855ce39"
      },
      "source": [
        "df.isnull().sum()"
      ],
      "execution_count": null,
      "outputs": [
        {
          "output_type": "execute_result",
          "data": {
            "text/plain": [
              "Title                 0\n",
              "Target                0\n",
              "Conditions            0\n",
              "Interventions      1476\n",
              "OutcomeMeasures      25\n",
              "Sponsor               0\n",
              "Gender               56\n",
              "Enrollment           14\n",
              "FundedBys             0\n",
              "StudyType             0\n",
              "StudyDesign          16\n",
              "dtype: int64"
            ]
          },
          "metadata": {
            "tags": []
          },
          "execution_count": 9
        }
      ]
    },
    {
      "cell_type": "code",
      "metadata": {
        "id": "waMjCLHmElRI"
      },
      "source": [
        "df['StudyType'] = df['StudyType'].replace(['Interventional','Observational'],['0','1'])\n",
        "df['Gender']=df['Gender'].fillna(3)\n",
        "df['Gender'] = df['Gender'].replace(['All','Female','Male'],['0','1','2'])\n",
        "#------------------------------------------------------------------------\n",
        "m=df['Enrollment'].mean()\n",
        "df['Enrollment']=df['Enrollment'].fillna(m)"
      ],
      "execution_count": null,
      "outputs": []
    },
    {
      "cell_type": "code",
      "metadata": {
        "id": "R4aC52teElRJ"
      },
      "source": [
        "df[\"StudyDesign\"]=df[\"StudyDesign\"].fillna(\"missing\")\n",
        "df[\"OutcomeMeasures\"]=df[\"OutcomeMeasures\"].fillna(\"missing\")\n",
        "df[\"Interventions\"]=df[\"Interventions\"].fillna(\"missing\")"
      ],
      "execution_count": null,
      "outputs": []
    },
    {
      "cell_type": "code",
      "metadata": {
        "id": "vY5CityIElRK"
      },
      "source": [
        "df['FundedBys'] = df['FundedBys'].replace(['U.S. Fed','U.S. Fed|Industry','U.S. Fed|Other|NIH','Industry|Other|U.S. Fed',\n",
        "                                              'Industry|U.S. Fed','Other|U.S. Fed|Industry','Other|U.S. Fed','U.S. Fed|NIH',\n",
        "                                              'U.S. Fed|Other','Other|NIH|U.S. Fed','Industry|U.S. Fed|Other',\n",
        "                                              'Other|U.S. Fed|NIH','U.S. Fed|Industry|Other'],\n",
        "                                              ['USAFed','USAFed|Industry','USAFed|Other|NIH','Industry|Other|USAFed',\n",
        "                                              'Industry|USAFed','Other|USAFed|Industry','Other|USAFed','USAFed|NIH',\n",
        "                                              'USAFed|Other','Other|NIH|USAFed','Industry|USAFed|Other',\n",
        "                                              'Other|USAFed|NIH','USAFed|Industry|Other'],\n",
        "                                             )"
      ],
      "execution_count": null,
      "outputs": []
    },
    {
      "cell_type": "code",
      "metadata": {
        "id": "rFc1dqz_ElRO",
        "outputId": "0ff61da8-dfc2-4afc-bf58-c9b2da826fe2"
      },
      "source": [
        "df['FundedBys'].unique()"
      ],
      "execution_count": null,
      "outputs": [
        {
          "output_type": "execute_result",
          "data": {
            "text/plain": [
              "array(['Other', 'Industry|Other', 'Industry', 'Other|Industry', 'NIH',\n",
              "       'Industry|Other|NIH', 'Other|NIH', 'USAFed', 'NIH|Other',\n",
              "       'USAFed|Other|NIH', 'Other|USAFed', 'Other|Industry|NIH',\n",
              "       'Industry|NIH', 'Other|USAFed|Industry', 'USAFed|NIH',\n",
              "       'USAFed|Other', 'Other|NIH|USAFed', 'Industry|USAFed',\n",
              "       'NIH|Industry', 'Industry|Other|USAFed', 'USAFed|Industry',\n",
              "       'Industry|NIH|Other', 'Other|NIH|Industry', 'NIH|Industry|Other',\n",
              "       'Industry|USAFed|Other', 'Other|USAFed|NIH', 'NIH|Other|Industry',\n",
              "       'USAFed|Industry|Other'], dtype=object)"
            ]
          },
          "metadata": {
            "tags": []
          },
          "execution_count": 16
        }
      ]
    },
    {
      "cell_type": "code",
      "metadata": {
        "id": "6zBTlPtrElRR"
      },
      "source": [
        "df.to_csv('preprocessing_project_data_w.csv',index=False)"
      ],
      "execution_count": null,
      "outputs": []
    },
    {
      "cell_type": "code",
      "metadata": {
        "id": "gI4xqxLlElRW"
      },
      "source": [
        ""
      ],
      "execution_count": null,
      "outputs": []
    }
  ]
}