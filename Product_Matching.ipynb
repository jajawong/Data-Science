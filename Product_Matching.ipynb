{
  "nbformat": 4,
  "nbformat_minor": 0,
  "metadata": {
    "colab": {
      "name": "Gi Product_Matching.ipynb",
      "provenance": [],
      "collapsed_sections": [],
      "machine_shape": "hm"
    },
    "kernelspec": {
      "name": "python3",
      "display_name": "Python 3"
    },
    "language_info": {
      "name": "python"
    },
    "accelerator": "GPU"
  },
  "cells": [
    {
      "cell_type": "markdown",
      "metadata": {
        "id": "PXJ8fmEOEKUW"
      },
      "source": [
        "**Install Transformers Library**"
      ]
    },
    {
      "cell_type": "code",
      "metadata": {
        "id": "IC7AyoND3mEz",
        "colab": {
          "base_uri": "https://localhost:8080/"
        },
        "outputId": "91d25af5-f536-4a58-d82c-97e6d6463dd2"
      },
      "source": [
        "!pip install transformers"
      ],
      "execution_count": null,
      "outputs": [
        {
          "output_type": "stream",
          "text": [
            "Requirement already satisfied: transformers in /usr/local/lib/python3.7/dist-packages (4.9.1)\n",
            "Requirement already satisfied: requests in /usr/local/lib/python3.7/dist-packages (from transformers) (2.23.0)\n",
            "Requirement already satisfied: filelock in /usr/local/lib/python3.7/dist-packages (from transformers) (3.0.12)\n",
            "Requirement already satisfied: tokenizers<0.11,>=0.10.1 in /usr/local/lib/python3.7/dist-packages (from transformers) (0.10.3)\n",
            "Requirement already satisfied: regex!=2019.12.17 in /usr/local/lib/python3.7/dist-packages (from transformers) (2019.12.20)\n",
            "Requirement already satisfied: pyyaml>=5.1 in /usr/local/lib/python3.7/dist-packages (from transformers) (5.4.1)\n",
            "Requirement already satisfied: importlib-metadata in /usr/local/lib/python3.7/dist-packages (from transformers) (4.6.1)\n",
            "Requirement already satisfied: packaging in /usr/local/lib/python3.7/dist-packages (from transformers) (21.0)\n",
            "Requirement already satisfied: numpy>=1.17 in /usr/local/lib/python3.7/dist-packages (from transformers) (1.19.5)\n",
            "Requirement already satisfied: sacremoses in /usr/local/lib/python3.7/dist-packages (from transformers) (0.0.45)\n",
            "Requirement already satisfied: tqdm>=4.27 in /usr/local/lib/python3.7/dist-packages (from transformers) (4.41.1)\n",
            "Requirement already satisfied: huggingface-hub==0.0.12 in /usr/local/lib/python3.7/dist-packages (from transformers) (0.0.12)\n",
            "Requirement already satisfied: typing-extensions in /usr/local/lib/python3.7/dist-packages (from huggingface-hub==0.0.12->transformers) (3.7.4.3)\n",
            "Requirement already satisfied: pyparsing>=2.0.2 in /usr/local/lib/python3.7/dist-packages (from packaging->transformers) (2.4.7)\n",
            "Requirement already satisfied: zipp>=0.5 in /usr/local/lib/python3.7/dist-packages (from importlib-metadata->transformers) (3.5.0)\n",
            "Requirement already satisfied: chardet<4,>=3.0.2 in /usr/local/lib/python3.7/dist-packages (from requests->transformers) (3.0.4)\n",
            "Requirement already satisfied: idna<3,>=2.5 in /usr/local/lib/python3.7/dist-packages (from requests->transformers) (2.10)\n",
            "Requirement already satisfied: certifi>=2017.4.17 in /usr/local/lib/python3.7/dist-packages (from requests->transformers) (2021.5.30)\n",
            "Requirement already satisfied: urllib3!=1.25.0,!=1.25.1,<1.26,>=1.21.1 in /usr/local/lib/python3.7/dist-packages (from requests->transformers) (1.24.3)\n",
            "Requirement already satisfied: six in /usr/local/lib/python3.7/dist-packages (from sacremoses->transformers) (1.15.0)\n",
            "Requirement already satisfied: joblib in /usr/local/lib/python3.7/dist-packages (from sacremoses->transformers) (1.0.1)\n",
            "Requirement already satisfied: click in /usr/local/lib/python3.7/dist-packages (from sacremoses->transformers) (7.1.2)\n"
          ],
          "name": "stdout"
        }
      ]
    },
    {
      "cell_type": "markdown",
      "metadata": {
        "id": "6NFkmnYvjWjF"
      },
      "source": [
        "**Import Libraries**"
      ]
    },
    {
      "cell_type": "code",
      "metadata": {
        "id": "bvCusJZi3mPy"
      },
      "source": [
        "import re\n",
        "import numpy as np\n",
        "import pandas as pd\n",
        "import torch\n",
        "import torch.nn as nn\n",
        "import time\n",
        "import datetime\n",
        "import random\n",
        "from sklearn.metrics import classification_report\n",
        "from sklearn.model_selection import GridSearchCV\n",
        "import transformers\n",
        "from transformers import AutoModel, BertTokenizerFast\n",
        "#from babel.dates import format_date, format_datetime, format_time\n",
        "from tqdm import tqdm\n",
        "import matplotlib.pyplot as plt\n",
        "% matplotlib inline\n",
        "import seaborn as sns\n",
        "\n",
        "# specify GPU\n",
        "device = torch.device(\"cuda\")"
      ],
      "execution_count": null,
      "outputs": []
    },
    {
      "cell_type": "markdown",
      "metadata": {
        "id": "x2wcPRAEjcMV"
      },
      "source": [
        "**Load Dataset**"
      ]
    },
    {
      "cell_type": "code",
      "metadata": {
        "id": "5NyEvB5z3mTe",
        "colab": {
          "base_uri": "https://localhost:8080/"
        },
        "outputId": "a82b8170-4350-4c83-b936-ed1427301dcb"
      },
      "source": [
        "from google.colab import drive\n",
        "drive.mount('/content/gdrive')\n",
        "import os\n",
        "\n",
        "os.chdir('/content/gdrive/My Drive/dataset/')"
      ],
      "execution_count": null,
      "outputs": [
        {
          "output_type": "stream",
          "text": [
            "Drive already mounted at /content/gdrive; to attempt to forcibly remount, call drive.mount(\"/content/gdrive\", force_remount=True).\n"
          ],
          "name": "stdout"
        }
      ]
    },
    {
      "cell_type": "code",
      "metadata": {
        "id": "ADkhh6Gu9SjB"
      },
      "source": [
        "df_train = pd.read_json('all_train_xlarge.json.gz', compression='gzip', lines=True)\n",
        "valid = pd.read_csv('all_valid_xlarge.csv')\n",
        "df_test = pd.read_json('task1_testset_1500_with_labels.json.gz', compression='gzip', lines=True)"
      ],
      "execution_count": null,
      "outputs": []
    },
    {
      "cell_type": "code",
      "metadata": {
        "colab": {
          "base_uri": "https://localhost:8080/"
        },
        "id": "dL9d88mpSxAF",
        "outputId": "0c1e13f4-6c43-43ce-b988-9e3a87d9a17a"
      },
      "source": [
        "val = valid['pair_id'].tolist()\n",
        "df_valid = df_train[df_train.pair_id.isin(val)]\n",
        "df_valid.shape"
      ],
      "execution_count": null,
      "outputs": [
        {
          "output_type": "execute_result",
          "data": {
            "text/plain": [
              "(42947, 22)"
            ]
          },
          "metadata": {
            "tags": []
          },
          "execution_count": 32
        }
      ]
    },
    {
      "cell_type": "markdown",
      "metadata": {
        "id": "IeWNK5hObAD9"
      },
      "source": [
        "**Check the shape of the training data**"
      ]
    },
    {
      "cell_type": "code",
      "metadata": {
        "colab": {
          "base_uri": "https://localhost:8080/"
        },
        "id": "i6OAYT8xDaw8",
        "outputId": "e5cbc71c-e598-4b0b-cd7c-dceae8618f87"
      },
      "source": [
        "print('Original Shape of df_train : ', df_train.shape)\n",
        "val = valid['pair_id'].tolist()\n",
        "df_train = df_train[~df_train.pair_id.isin(val)]\n",
        "print('Shape of df_train (after removal validate) : ', df_train.shape)\n",
        "test = df_test['pair_id'].tolist()\n",
        "df_train = df_train[~df_train.pair_id.isin(test)]\n",
        "print('Shape of df_train (after removal test) : ', df_train.shape)"
      ],
      "execution_count": null,
      "outputs": [
        {
          "output_type": "stream",
          "text": [
            "Original Shape of df_train :  (214661, 22)\n",
            "Shape of df_train (after removal validate) :  (171714, 22)\n",
            "Shape of df_train (after removal test) :  (171713, 22)\n"
          ],
          "name": "stdout"
        }
      ]
    },
    {
      "cell_type": "markdown",
      "metadata": {
        "id": "SIjbWhV7dirz"
      },
      "source": [
        "**Display the shape of the test data**"
      ]
    },
    {
      "cell_type": "code",
      "metadata": {
        "colab": {
          "base_uri": "https://localhost:8080/"
        },
        "id": "h5eVpkcdR1jD",
        "outputId": "7180af22-3656-4b82-d681-50fba7ce3339"
      },
      "source": [
        "df_test.shape"
      ],
      "execution_count": null,
      "outputs": [
        {
          "output_type": "execute_result",
          "data": {
            "text/plain": [
              "(1500, 21)"
            ]
          },
          "metadata": {
            "tags": []
          },
          "execution_count": 34
        }
      ]
    },
    {
      "cell_type": "markdown",
      "metadata": {
        "id": "uu3q9J83a_Eo"
      },
      "source": [
        "**Check if any product pair with lable = 1 but with different category or brand (Method1)**"
      ]
    },
    {
      "cell_type": "code",
      "metadata": {
        "id": "ZBCfIKKm3RTP",
        "colab": {
          "base_uri": "https://localhost:8080/"
        },
        "outputId": "c2efa1a6-9158-4628-c2d4-4528bf72ae29"
      },
      "source": [
        "def check_Category_Brand(df):\n",
        "  df = df.loc[df['label'] == 1 ]\n",
        "  df = df.loc[df['category_left'] != df['category_right']]\n",
        "  df = df.loc[df['brand_left'] != df['brand_right']]\n",
        "  print(df.shape[0])\n",
        "  if df.shape[0]>0:\n",
        "    print(df.head())\n",
        "\n",
        "check_Category_Brand(df_train)\n",
        "check_Category_Brand(df_valid)\n",
        "check_Category_Brand(df_test)"
      ],
      "execution_count": null,
      "outputs": [
        {
          "output_type": "stream",
          "text": [
            "0\n",
            "0\n",
            "0\n"
          ],
          "name": "stdout"
        }
      ]
    },
    {
      "cell_type": "markdown",
      "metadata": {
        "id": "BXQvPXzAdTKL"
      },
      "source": [
        "**Check if any product pair with lable = 1 but with different category or brand (Method2)**"
      ]
    },
    {
      "cell_type": "code",
      "metadata": {
        "id": "npv9zzIOFMcx",
        "colab": {
          "base_uri": "https://localhost:8080/"
        },
        "outputId": "3ce0b2d9-3774-4acf-fc3e-df9521eff6c2"
      },
      "source": [
        "def check_Category_Brand2(df):\n",
        "  compare_brand = np.where(df['brand_left'] == df['brand_right'], True, False)\n",
        "  compare_category = np.where(df['category_left'] == df['category_right'], True, False)\n",
        "  df['equal_brand'] = compare_brand\n",
        "  df['equal_category'] = compare_category\n",
        "  rows = df.loc[(df['label'] == 1) & (df['equal_brand'] == False) & (df['equal_category'] == False)].shape[0]\n",
        "  print(rows)\n",
        "  if rows>0:\n",
        "    print(rows.head())\n",
        "\n",
        "\n",
        "check_Category_Brand2(df_train)\n",
        "check_Category_Brand2(df_valid)\n",
        "check_Category_Brand2(df_test)"
      ],
      "execution_count": null,
      "outputs": [
        {
          "output_type": "stream",
          "text": [
            "0\n",
            "0\n",
            "0\n"
          ],
          "name": "stdout"
        }
      ]
    },
    {
      "cell_type": "markdown",
      "metadata": {
        "id": "6dxnJJ2_dsyU"
      },
      "source": [
        "**Display the column names of the test data**"
      ]
    },
    {
      "cell_type": "code",
      "metadata": {
        "colab": {
          "base_uri": "https://localhost:8080/"
        },
        "id": "GA2_dhqaSDfx",
        "outputId": "773d95c8-aa9e-4233-ecf3-b9f53666a616"
      },
      "source": [
        "df_test.columns"
      ],
      "execution_count": null,
      "outputs": [
        {
          "output_type": "execute_result",
          "data": {
            "text/plain": [
              "Index(['id_left', 'cluster_id_left', 'category_left', 'title_left',\n",
              "       'description_left', 'brand_left', 'price_left', 'keyValuePairs_left',\n",
              "       'specTableContent_left', 'id_right', 'cluster_id_right',\n",
              "       'category_right', 'title_right', 'description_right', 'brand_right',\n",
              "       'price_right', 'keyValuePairs_right', 'specTableContent_right', 'label',\n",
              "       'pair_id', 'sampling', 'equal_brand', 'equal_category'],\n",
              "      dtype='object')"
            ]
          },
          "metadata": {
            "tags": []
          },
          "execution_count": 37
        }
      ]
    },
    {
      "cell_type": "markdown",
      "metadata": {
        "id": "qIYqsES8gAjR"
      },
      "source": [
        "**Import BERT-base pretrained model**"
      ]
    },
    {
      "cell_type": "code",
      "metadata": {
        "id": "INpUMwBb-LTN",
        "colab": {
          "base_uri": "https://localhost:8080/"
        },
        "outputId": "69237027-e7f5-4a2b-d426-2808bf540ed9"
      },
      "source": [
        "# import BERT-base pretrained model\n",
        "bert = AutoModel.from_pretrained('bert-base-uncased',return_dict=False)\n",
        "\n",
        "# Load the BERT tokenizer\n",
        "tokenizer = BertTokenizerFast.from_pretrained('bert-base-uncased')"
      ],
      "execution_count": null,
      "outputs": [
        {
          "output_type": "stream",
          "text": [
            "Some weights of the model checkpoint at bert-base-uncased were not used when initializing BertModel: ['cls.predictions.transform.LayerNorm.weight', 'cls.predictions.bias', 'cls.predictions.decoder.weight', 'cls.predictions.transform.dense.weight', 'cls.predictions.transform.dense.bias', 'cls.seq_relationship.weight', 'cls.seq_relationship.bias', 'cls.predictions.transform.LayerNorm.bias']\n",
            "- This IS expected if you are initializing BertModel from the checkpoint of a model trained on another task or with another architecture (e.g. initializing a BertForSequenceClassification model from a BertForPreTraining model).\n",
            "- This IS NOT expected if you are initializing BertModel from the checkpoint of a model that you expect to be exactly identical (initializing a BertForSequenceClassification model from a BertForSequenceClassification model).\n"
          ],
          "name": "stderr"
        }
      ]
    },
    {
      "cell_type": "markdown",
      "metadata": {
        "id": "zpziD5kTgIGw"
      },
      "source": [
        "**Check the maximum length and minimum length of title & description**"
      ]
    },
    {
      "cell_type": "code",
      "metadata": {
        "id": "2wRPrVQQ32Gv"
      },
      "source": [
        "def get_num_tokens(column):\n",
        "\n",
        "  l = []\n",
        "  column = column.fillna('')\n",
        "  l2 = column.to_list()\n",
        "  tokenized_texts = tokenizer(l2)\n",
        "  length = len(tokenized_texts['input_ids'])\n",
        "  for i in range(length):\n",
        "    l.append(len(tokenized_texts['input_ids'][i]))\n",
        "  #print('No. of rows : ',len(l))\n",
        "  #print('Max no. of tokens : ',max(l))\n",
        "  #print('Min no. of tokens : ',min(l))\n",
        "  return l\n"
      ],
      "execution_count": null,
      "outputs": []
    },
    {
      "cell_type": "code",
      "metadata": {
        "colab": {
          "base_uri": "https://localhost:8080/",
          "height": 306
        },
        "id": "Pmq5DxccjOdG",
        "outputId": "b3ea3252-f6a3-4feb-9a69-a07d4a3e19b3"
      },
      "source": [
        "from pandas import DataFrame\n",
        "\n",
        "s1 = DataFrame (get_num_tokens(df_train['title_left']),columns=['title_left_tokens'])\n",
        "s2 = DataFrame (get_num_tokens(df_train['description_left']),columns=['desc_left_tokens'])\n",
        "s3 = DataFrame (get_num_tokens(df_train['title_right']),columns=['title_right_tokens'])\n",
        "s4 = DataFrame (get_num_tokens(df_train['description_right']),columns=['desc_right_tokens'])\n",
        "\n",
        "result = pd.concat([s1, s2], axis=1)\n",
        "result = pd.concat([result, s3], axis=1)\n",
        "result = pd.concat([result, s4], axis=1)\n",
        "result['total_left_tokens'] = result['title_left_tokens']+result['desc_left_tokens']\n",
        "result['total_right_tokens'] = result['title_right_tokens']+result['desc_right_tokens']\n",
        "\n",
        "print('No. of rows : ', result.shape[0])\n",
        "\n",
        "print('Max no. of tokens : ',result['total_left_tokens'].max())\n",
        "print('Min no. of tokens : ',result['total_left_tokens'].min())\n",
        "\n",
        "print('Max no. of tokens : ',result['total_right_tokens'].max())\n",
        "print('Min no. of tokens : ',result['total_right_tokens'].min(),'\\n')\n",
        "\n",
        "result.tail()\n"
      ],
      "execution_count": null,
      "outputs": [
        {
          "output_type": "stream",
          "text": [
            "No. of rows :  171713\n",
            "Max no. of tokens :  18967\n",
            "Min no. of tokens :  14\n",
            "Max no. of tokens :  18967\n",
            "Min no. of tokens :  14 \n",
            "\n"
          ],
          "name": "stdout"
        },
        {
          "output_type": "execute_result",
          "data": {
            "text/html": [
              "<div>\n",
              "<style scoped>\n",
              "    .dataframe tbody tr th:only-of-type {\n",
              "        vertical-align: middle;\n",
              "    }\n",
              "\n",
              "    .dataframe tbody tr th {\n",
              "        vertical-align: top;\n",
              "    }\n",
              "\n",
              "    .dataframe thead th {\n",
              "        text-align: right;\n",
              "    }\n",
              "</style>\n",
              "<table border=\"1\" class=\"dataframe\">\n",
              "  <thead>\n",
              "    <tr style=\"text-align: right;\">\n",
              "      <th></th>\n",
              "      <th>title_left_tokens</th>\n",
              "      <th>desc_left_tokens</th>\n",
              "      <th>title_right_tokens</th>\n",
              "      <th>desc_right_tokens</th>\n",
              "      <th>total_left_tokens</th>\n",
              "      <th>total_right_tokens</th>\n",
              "    </tr>\n",
              "  </thead>\n",
              "  <tbody>\n",
              "    <tr>\n",
              "      <th>171708</th>\n",
              "      <td>40</td>\n",
              "      <td>45</td>\n",
              "      <td>60</td>\n",
              "      <td>33</td>\n",
              "      <td>85</td>\n",
              "      <td>93</td>\n",
              "    </tr>\n",
              "    <tr>\n",
              "      <th>171709</th>\n",
              "      <td>31</td>\n",
              "      <td>143</td>\n",
              "      <td>28</td>\n",
              "      <td>141</td>\n",
              "      <td>174</td>\n",
              "      <td>169</td>\n",
              "    </tr>\n",
              "    <tr>\n",
              "      <th>171710</th>\n",
              "      <td>30</td>\n",
              "      <td>5</td>\n",
              "      <td>31</td>\n",
              "      <td>280</td>\n",
              "      <td>35</td>\n",
              "      <td>311</td>\n",
              "    </tr>\n",
              "    <tr>\n",
              "      <th>171711</th>\n",
              "      <td>40</td>\n",
              "      <td>202</td>\n",
              "      <td>39</td>\n",
              "      <td>2</td>\n",
              "      <td>242</td>\n",
              "      <td>41</td>\n",
              "    </tr>\n",
              "    <tr>\n",
              "      <th>171712</th>\n",
              "      <td>43</td>\n",
              "      <td>258</td>\n",
              "      <td>36</td>\n",
              "      <td>274</td>\n",
              "      <td>301</td>\n",
              "      <td>310</td>\n",
              "    </tr>\n",
              "  </tbody>\n",
              "</table>\n",
              "</div>"
            ],
            "text/plain": [
              "        title_left_tokens  ...  total_right_tokens\n",
              "171708                 40  ...                  93\n",
              "171709                 31  ...                 169\n",
              "171710                 30  ...                 311\n",
              "171711                 40  ...                  41\n",
              "171712                 43  ...                 310\n",
              "\n",
              "[5 rows x 6 columns]"
            ]
          },
          "metadata": {
            "tags": []
          },
          "execution_count": 69
        }
      ]
    },
    {
      "cell_type": "code",
      "metadata": {
        "id": "GuPm1u2A3Feu"
      },
      "source": [
        "result.describe()"
      ],
      "execution_count": null,
      "outputs": []
    },
    {
      "cell_type": "markdown",
      "metadata": {
        "id": "npvk-CsMd5If"
      },
      "source": [
        "**Remove n/a, tab & new line character**"
      ]
    },
    {
      "cell_type": "code",
      "metadata": {
        "id": "viT8mCO59TVR"
      },
      "source": [
        "df_train['description_left'] = df_train['description_left'].fillna('')\n",
        "df_train['description_right'] = df_train['description_right'].fillna('')\n",
        "df_train['left_temp'] = df_train['title_left'] + df_train['description_left']\n",
        "df_train['right_temp'] = df_train['title_right'] + df_train['description_right']\n",
        "df_train = df_train.replace(r'\\n',' ', regex=True) \n",
        "df_train = df_train.replace(r'\\\\n',' ', regex=True)\n",
        "df_train = df_train.replace(r'\\t',' ', regex=True) \n",
        "df_train = df_train.loc[:, ['left_temp', 'right_temp', 'label']]\n",
        "df_train.columns = ['text_a', 'text_b', 'label']"
      ],
      "execution_count": null,
      "outputs": []
    },
    {
      "cell_type": "code",
      "metadata": {
        "id": "z5qozqUo9qoD"
      },
      "source": [
        "df_valid['description_left'] = df_valid['description_left'].fillna('')\n",
        "df_valid['description_right'] = df_valid['description_right'].fillna('')\n",
        "df_valid['left_temp'] = df_valid['title_left'] + df_valid['description_left']\n",
        "df_valid['right_temp'] = df_valid['title_right'] + df_valid['description_right']\n",
        "df_valid = df_valid.replace(r'\\n',' ', regex=True) \n",
        "df_valid = df_valid.replace(r'\\\\n',' ', regex=True)\n",
        "df_valid = df_valid.replace(r'\\t',' ', regex=True) \n",
        "df_valid = df_valid.loc[:, ['left_temp', 'right_temp', 'label']]\n",
        "df_valid.columns = ['text_a', 'text_b', 'label']"
      ],
      "execution_count": null,
      "outputs": []
    },
    {
      "cell_type": "code",
      "metadata": {
        "id": "DFKxvi1lRy3a"
      },
      "source": [
        "df_test['description_left'] = df_test['description_left'].fillna('')\n",
        "df_test['description_right'] = df_test['description_right'].fillna('')\n",
        "df_test['left_temp'] = df_test['title_left'] + df_test['description_left']\n",
        "df_test['right_temp'] = df_test['title_right'] + df_test['description_right']\n",
        "df_test = df_test.replace(r'\\n',' ', regex=True) \n",
        "df_test = df_test.replace(r'\\\\n',' ', regex=True)\n",
        "df_test = df_test.replace(r'\\t',' ', regex=True) \n",
        "df_test = df_test.loc[:, ['left_temp', 'right_temp', 'label']]\n",
        "df_test.columns = ['text_a', 'text_b', 'label']"
      ],
      "execution_count": null,
      "outputs": []
    },
    {
      "cell_type": "markdown",
      "metadata": {
        "id": "Ra-gDxnyehv3"
      },
      "source": [
        "**Check class distribution**"
      ]
    },
    {
      "cell_type": "code",
      "metadata": {
        "id": "EFMQjk-K97ps",
        "colab": {
          "base_uri": "https://localhost:8080/"
        },
        "outputId": "24d2521d-e371-40a2-f27d-77395dc454dc"
      },
      "source": [
        "df_train.label.value_counts() / len(df_train)"
      ],
      "execution_count": null,
      "outputs": [
        {
          "output_type": "execute_result",
          "data": {
            "text/plain": [
              "0    0.859399\n",
              "1    0.140601\n",
              "Name: label, dtype: float64"
            ]
          },
          "metadata": {
            "tags": []
          },
          "execution_count": 74
        }
      ]
    },
    {
      "cell_type": "markdown",
      "metadata": {
        "id": "hIl2DSI3fCDX"
      },
      "source": [
        "**Save training, validation, test data as tsv for Pytorch**"
      ]
    },
    {
      "cell_type": "code",
      "metadata": {
        "id": "PmBlgH-N-bqT",
        "colab": {
          "base_uri": "https://localhost:8080/",
          "height": 221
        },
        "outputId": "821d885f-4841-465b-e041-d126fd5b929a"
      },
      "source": [
        "df_train.to_csv('train.tsv', sep='\\t', index=False)\n",
        "print(\"No. of Training Samples：\", len(df_train))\n",
        "df_train.head()"
      ],
      "execution_count": null,
      "outputs": [
        {
          "output_type": "stream",
          "text": [
            "No. of Training Samples： 171713\n"
          ],
          "name": "stdout"
        },
        {
          "output_type": "execute_result",
          "data": {
            "text/html": [
              "<div>\n",
              "<style scoped>\n",
              "    .dataframe tbody tr th:only-of-type {\n",
              "        vertical-align: middle;\n",
              "    }\n",
              "\n",
              "    .dataframe tbody tr th {\n",
              "        vertical-align: top;\n",
              "    }\n",
              "\n",
              "    .dataframe thead th {\n",
              "        text-align: right;\n",
              "    }\n",
              "</style>\n",
              "<table border=\"1\" class=\"dataframe\">\n",
              "  <thead>\n",
              "    <tr style=\"text-align: right;\">\n",
              "      <th></th>\n",
              "      <th>text_a</th>\n",
              "      <th>text_b</th>\n",
              "      <th>label</th>\n",
              "    </tr>\n",
              "  </thead>\n",
              "  <tbody>\n",
              "    <tr>\n",
              "      <th>3</th>\n",
              "      <td>\"HP Pavilion x360 - 11-ad018ca\"@en up to 2.5 ...</td>\n",
              "      <td>\"HP Pavilion x360 - 11-ad018ca\"@en 11-ad018ca...</td>\n",
              "      <td>1</td>\n",
              "    </tr>\n",
              "    <tr>\n",
              "      <th>5</th>\n",
              "      <td>\"Casio GA-201-1AER\"@bg GA-201-1AER | G-Shock ...</td>\n",
              "      <td>\"Reloj Casio G-Shock GA-110MB-1AER\"</td>\n",
              "      <td>0</td>\n",
              "    </tr>\n",
              "    <tr>\n",
              "      <th>6</th>\n",
              "      <td>\"Garmin Forerunner 25 Hr Big\" Big comprar y o...</td>\n",
              "      <td>\"Sandisk 16GB Cruzer Fit Usb Bellek (SDCZ33-0...</td>\n",
              "      <td>0</td>\n",
              "    </tr>\n",
              "    <tr>\n",
              "      <th>7</th>\n",
              "      <td>\"G-Shock Style Radio Controlled-Solar Watch\"@...</td>\n",
              "      <td>\"Herren Casio G-Shock Wecker Chronograf Uhr A...</td>\n",
              "      <td>0</td>\n",
              "    </tr>\n",
              "    <tr>\n",
              "      <th>8</th>\n",
              "      <td>\"Seagate Laptop SSHD 1 TB Internal SSHD\" \" Se...</td>\n",
              "      <td>\"WD Blue 1TB 2.5\" SATA 6Gbps Solid State Driv...</td>\n",
              "      <td>0</td>\n",
              "    </tr>\n",
              "  </tbody>\n",
              "</table>\n",
              "</div>"
            ],
            "text/plain": [
              "                                              text_a  ... label\n",
              "3   \"HP Pavilion x360 - 11-ad018ca\"@en up to 2.5 ...  ...     1\n",
              "5   \"Casio GA-201-1AER\"@bg GA-201-1AER | G-Shock ...  ...     0\n",
              "6   \"Garmin Forerunner 25 Hr Big\" Big comprar y o...  ...     0\n",
              "7   \"G-Shock Style Radio Controlled-Solar Watch\"@...  ...     0\n",
              "8   \"Seagate Laptop SSHD 1 TB Internal SSHD\" \" Se...  ...     0\n",
              "\n",
              "[5 rows x 3 columns]"
            ]
          },
          "metadata": {
            "tags": []
          },
          "execution_count": 75
        }
      ]
    },
    {
      "cell_type": "code",
      "metadata": {
        "colab": {
          "base_uri": "https://localhost:8080/"
        },
        "id": "UqkdLqurMuLY",
        "outputId": "11d58532-d84d-4123-c15c-e7f98a708262"
      },
      "source": [
        "df_valid.to_csv('valid.tsv', sep='\\t', index=False)\n",
        "print(\"No. of Validate Samples：\", len(df_valid))"
      ],
      "execution_count": null,
      "outputs": [
        {
          "output_type": "stream",
          "text": [
            "No. of Validate Samples： 42947\n"
          ],
          "name": "stdout"
        }
      ]
    },
    {
      "cell_type": "code",
      "metadata": {
        "colab": {
          "base_uri": "https://localhost:8080/",
          "height": 221
        },
        "id": "MbgxOLgEZG1e",
        "outputId": "ab9c09d0-a383-45b3-eb97-c20005444e4e"
      },
      "source": [
        "df_test.to_csv('test.tsv', sep='\\t', index=False)\n",
        "print(\"No. of Test Samples：\", len(df_test))\n",
        "df_test.head()"
      ],
      "execution_count": null,
      "outputs": [
        {
          "output_type": "stream",
          "text": [
            "No. of Test Samples： 1500\n"
          ],
          "name": "stdout"
        },
        {
          "output_type": "execute_result",
          "data": {
            "text/html": [
              "<div>\n",
              "<style scoped>\n",
              "    .dataframe tbody tr th:only-of-type {\n",
              "        vertical-align: middle;\n",
              "    }\n",
              "\n",
              "    .dataframe tbody tr th {\n",
              "        vertical-align: top;\n",
              "    }\n",
              "\n",
              "    .dataframe thead th {\n",
              "        text-align: right;\n",
              "    }\n",
              "</style>\n",
              "<table border=\"1\" class=\"dataframe\">\n",
              "  <thead>\n",
              "    <tr style=\"text-align: right;\">\n",
              "      <th></th>\n",
              "      <th>text_a</th>\n",
              "      <th>text_b</th>\n",
              "      <th>label</th>\n",
              "    </tr>\n",
              "  </thead>\n",
              "  <tbody>\n",
              "    <tr>\n",
              "      <th>0</th>\n",
              "      <td>\"Intel X520-DA2 PCI Express 2.0 Network Adapt...</td>\n",
              "      <td>\"Intel X520-DA2 Dual Port Gigabit SFP Etherne...</td>\n",
              "      <td>1</td>\n",
              "    </tr>\n",
              "    <tr>\n",
              "      <th>1</th>\n",
              "      <td>\"Zotac GeForce GTX 1070Ti AMP Extreme 8192MB ...</td>\n",
              "      <td>\"Zotac NVIDIA GeForce GTX 1070 Ti 8GB AMP! Ex...</td>\n",
              "      <td>1</td>\n",
              "    </tr>\n",
              "    <tr>\n",
              "      <th>2</th>\n",
              "      <td>\"TP-LINK TL-WPS510U 150Mbps Wireless Print Se...</td>\n",
              "      <td>\"TP-LINK TL-WPS510U - print server\" \" TP-LINK...</td>\n",
              "      <td>1</td>\n",
              "    </tr>\n",
              "    <tr>\n",
              "      <th>3</th>\n",
              "      <td>\"Logitech - MK550 Wireless Wave Keyboard and ...</td>\n",
              "      <td>\"Logitech MK550 Wireless Wave Keyboard and Mo...</td>\n",
              "      <td>1</td>\n",
              "    </tr>\n",
              "    <tr>\n",
              "      <th>4</th>\n",
              "      <td>\"Western Digital - Blue 500GB 2.5\" Solid Stat...</td>\n",
              "      <td>\"Buy Online | WD Blue PC SSD 500GB SATA III 2...</td>\n",
              "      <td>1</td>\n",
              "    </tr>\n",
              "  </tbody>\n",
              "</table>\n",
              "</div>"
            ],
            "text/plain": [
              "                                              text_a  ... label\n",
              "0   \"Intel X520-DA2 PCI Express 2.0 Network Adapt...  ...     1\n",
              "1   \"Zotac GeForce GTX 1070Ti AMP Extreme 8192MB ...  ...     1\n",
              "2   \"TP-LINK TL-WPS510U 150Mbps Wireless Print Se...  ...     1\n",
              "3   \"Logitech - MK550 Wireless Wave Keyboard and ...  ...     1\n",
              "4   \"Western Digital - Blue 500GB 2.5\" Solid Stat...  ...     1\n",
              "\n",
              "[5 rows x 3 columns]"
            ]
          },
          "metadata": {
            "tags": []
          },
          "execution_count": 77
        }
      ]
    },
    {
      "cell_type": "code",
      "metadata": {
        "id": "yoUJt9JxsTOT"
      },
      "source": [
        "seed_val = 42\n",
        "random.seed(seed_val)\n",
        "np.random.seed(seed_val)\n",
        "torch.manual_seed(seed_val)\n",
        "torch.cuda.manual_seed_all(seed_val)\n"
      ],
      "execution_count": null,
      "outputs": []
    },
    {
      "cell_type": "markdown",
      "metadata": {
        "id": "YHqFKhqwhQWf"
      },
      "source": [
        "**Tokenize training, validation, test data by using BERT tokenizer**"
      ]
    },
    {
      "cell_type": "code",
      "metadata": {
        "id": "WKbMmQ-v_6T9"
      },
      "source": [
        "# encode vs encode plus vs batch encode plus\n",
        "\n",
        "from torch.utils.data import Dataset\n",
        "\n",
        "class ProductDataset(Dataset):\n",
        "\n",
        "  def __init__(self, mode, tokenizer):\n",
        "    assert mode in ['train', 'valid', 'test']\n",
        "    self.mode = mode\n",
        "    self.df = pd.read_csv(mode + '.tsv', sep='\\t').fillna('')\n",
        "    self.len = len(self.df)\n",
        "    self.tokenizer = tokenizer  \n",
        "    self.max_len = 512\n",
        "    \n",
        "\n",
        "\n",
        "  def __getitem__(self, idx):\n",
        "    if self.mode == \"test\":\n",
        "      text_a, text_b = self.df.iloc[idx, :2].values\n",
        "      label_tensor = None\n",
        "    else:\n",
        "      text_a, text_b, label = self.df.iloc[idx, :].values\n",
        "      label_tensor = torch.tensor(label)\n",
        "\n",
        "    encoded_pair = tokenizer.encode_plus(text_a, text_b, return_tensors='pt', add_special_tokens=True, max_length=self.max_len, truncation=True)\n",
        "  \n",
        "\n",
        "    tokens_tensor  = encoded_pair['input_ids'].squeeze(0)  # tensor of token ids\n",
        "    segments_tensor = encoded_pair['token_type_ids'].squeeze(0)  # binary tensor with \"0\" for the 1st sentence tokens & \"1\" for the 2nd sentence tokens\n",
        "\n",
        "    return (tokens_tensor, segments_tensor, label_tensor)\n",
        "    \n",
        "\n",
        "  def __len__(self):\n",
        "    return self.len\n",
        "    \n",
        "\n",
        "\n",
        "\n",
        "trainset = ProductDataset('train', tokenizer=tokenizer)\n",
        "validset = ProductDataset('valid', tokenizer=tokenizer)\n",
        "testset = ProductDataset('test', tokenizer=tokenizer)"
      ],
      "execution_count": null,
      "outputs": []
    },
    {
      "cell_type": "markdown",
      "metadata": {
        "id": "fIAdnjNeiip3"
      },
      "source": [
        "**Get length of all tokens_tensors in the train set**"
      ]
    },
    {
      "cell_type": "code",
      "metadata": {
        "id": "NkJAYJDMBxbZ"
      },
      "source": [
        "seq_len = [len(i[0]) for i in trainset]\n",
        "pd.Series(seq_len).hist(bins = 30)"
      ],
      "execution_count": null,
      "outputs": []
    },
    {
      "cell_type": "markdown",
      "metadata": {
        "id": "21hudJ-di-2B"
      },
      "source": [
        "**Data Loader**"
      ]
    },
    {
      "cell_type": "code",
      "metadata": {
        "id": "gV7a6ySWByfw"
      },
      "source": [
        "# collate_fn , SequentialSampler\n",
        "\n",
        "\n",
        "\"\"\"\n",
        "BERT will return 4 tensors\n",
        "- tokens_tensors  : (batch_size, max_seq_len_in_batch)\n",
        "- segments_tensors: (batch_size, max_seq_len_in_batch)\n",
        "- masks_tensors   : (batch_size, max_seq_len_in_batch)\n",
        "- label_ids       : (batch_size)\n",
        "\"\"\"\n",
        "\n",
        "from torch.utils.data import DataLoader,RandomSampler, SequentialSampler\n",
        "from torch.nn.utils.rnn import pad_sequence\n",
        "from keras.preprocessing.sequence import pad_sequences\n",
        "\n",
        "# 'samples' which pass to this function is a list，there are 3 tensors\n",
        "# - tokens_tensor\n",
        "# - segments_tensor\n",
        "# - label_tensor\n",
        "# zero padding will be applied on token tensor & segments tensor，and generate a masks tensors\n",
        "def create_mini_batch(samples):\n",
        "  tokens_tensors = [s[0] for s in samples]\n",
        "  segments_tensors = [s[1] for s in samples]\n",
        "    \n",
        "  # handling when there are labels in dataset\n",
        "  if samples[0][2] is not None:\n",
        "    label_ids = torch.stack([s[2] for s in samples])\n",
        "  else:\n",
        "    label_ids = None\n",
        "    \n",
        "  # zero padding\n",
        "  tokens_tensors = pad_sequence(tokens_tensors,batch_first=True)\n",
        "  segments_tensors = pad_sequence(segments_tensors,batch_first=True)\n",
        "    \n",
        "  # attention masks will set the as 1 when the tokens_tensors is not zero, BERT will only pay attention to the non-zero tokens\n",
        "  masks_tensors = torch.zeros(tokens_tensors.shape,dtype=torch.long)\n",
        "  masks_tensors = masks_tensors.masked_fill(tokens_tensors != 0, 1)\n",
        "  return tokens_tensors, segments_tensors, masks_tensors, label_ids\n",
        "\n",
        "\n",
        "# Create an iterator of our data with torch DataLoader. This helps save on memory during training because, unlike a for loop, \n",
        "# with an iterator the entire dataset does not need to be loaded into memory\n",
        "\n",
        "#define a batch size\n",
        "BATCH_SIZE = 8\n",
        "\n",
        "# sampler for sampling the data during training\n",
        "train_sampler = RandomSampler(trainset)\n",
        "\n",
        "# sampler for sampling the data during training\n",
        "val_sampler = SequentialSampler(validset)\n",
        "\n",
        "train_dataloader = DataLoader(trainset, sampler=train_sampler,batch_size=BATCH_SIZE, \n",
        "                         collate_fn=create_mini_batch)\n",
        "\n",
        "val_dataloader = DataLoader(validset, sampler=val_sampler,batch_size=BATCH_SIZE, \n",
        "                         collate_fn=create_mini_batch)\n",
        "\n",
        "test_dataloader = DataLoader(testset,collate_fn=create_mini_batch)\n"
      ],
      "execution_count": null,
      "outputs": []
    },
    {
      "cell_type": "code",
      "metadata": {
        "id": "Kby-8l4YByi4"
      },
      "source": [
        "'''\n",
        "# freeze all the parameters\n",
        "for param in bert.parameters():\n",
        "    param.requires_grad = False\n",
        "'''"
      ],
      "execution_count": null,
      "outputs": []
    },
    {
      "cell_type": "markdown",
      "metadata": {
        "id": "nqgbRTAKjuOX"
      },
      "source": [
        "**Define Model Architecture**"
      ]
    },
    {
      "cell_type": "code",
      "metadata": {
        "id": "EMqdJ4uoDjrc"
      },
      "source": [
        "class BERT_Arch(nn.Module):\n",
        "\n",
        "    def __init__(self, bert):\n",
        "      \n",
        "      super(BERT_Arch, self).__init__()\n",
        "\n",
        "      self.bert = bert \n",
        "      \n",
        "      # dropout layer\n",
        "      self.dropout = nn.Dropout(0.1)\n",
        "      \n",
        "      # relu activation function\n",
        "      self.relu =  nn.ReLU()\n",
        "\n",
        "      # dense layer 1\n",
        "      self.fc1 = nn.Linear(768,512)\n",
        "      \n",
        "      # dense layer 2 (Output layer)\n",
        "      self.fc2 = nn.Linear(512,2)\n",
        "\n",
        "      #softmax activation function\n",
        "      self.softmax = nn.LogSoftmax(dim=1)\n",
        "\n",
        "    #define the forward pass\n",
        "    def forward(self, sent_id, mask, segments):\n",
        "\n",
        "      #pass the inputs to the model  \n",
        "      _, cls_hs = self.bert(sent_id, mask, segments)\n",
        "\n",
        "      x = self.fc1(cls_hs)\n",
        "\n",
        "      x = self.relu(x)\n",
        "\n",
        "      x = self.dropout(x)\n",
        "\n",
        "      # output layer\n",
        "      x = self.fc2(x)\n",
        "      \n",
        "      # apply softmax activation\n",
        "      x = self.softmax(x)\n",
        "\n",
        "      return x"
      ],
      "execution_count": null,
      "outputs": []
    },
    {
      "cell_type": "code",
      "metadata": {
        "id": "1oHtmerzDjuY"
      },
      "source": [
        "# pass the pre-trained BERT to our define architecture\n",
        "model = BERT_Arch(bert)\n",
        "\n",
        "# push the model to GPU\n",
        "model = model.to(device)"
      ],
      "execution_count": null,
      "outputs": []
    },
    {
      "cell_type": "code",
      "metadata": {
        "id": "bHhrv3cgDjxE"
      },
      "source": [
        "# optimizer from hugging face transformers\n",
        "from transformers import AdamW\n",
        "\n",
        "# define the optimizer\n",
        "optimizer = AdamW(model.parameters(), lr = 2e-5) # lr 1e-3"
      ],
      "execution_count": null,
      "outputs": []
    },
    {
      "cell_type": "markdown",
      "metadata": {
        "id": "eYseFjy1kZLj"
      },
      "source": [
        "**Compute the class weights**"
      ]
    },
    {
      "cell_type": "code",
      "metadata": {
        "colab": {
          "base_uri": "https://localhost:8080/"
        },
        "id": "96ySdE9-Djzd",
        "outputId": "59e7bd8f-8540-406c-9e0f-852f9005c86d"
      },
      "source": [
        "\n",
        "from sklearn.utils.class_weight import compute_class_weight\n",
        "\n",
        "#compute the class weights\n",
        "class_wts = compute_class_weight('balanced', np.unique(df_train['label']), df_train['label'])\n",
        "\n",
        "print(class_wts)"
      ],
      "execution_count": null,
      "outputs": [
        {
          "output_type": "stream",
          "text": [
            "[0.58180186 3.55616535]\n"
          ],
          "name": "stdout"
        }
      ]
    },
    {
      "cell_type": "markdown",
      "metadata": {
        "id": "7SoyqkjBkgrj"
      },
      "source": [
        "**Convert class weights to tensor & hyperparameter**"
      ]
    },
    {
      "cell_type": "code",
      "metadata": {
        "id": "hHwaAeMoEKrj"
      },
      "source": [
        "# convert class weights to tensor\n",
        "weights= torch.tensor(class_wts,dtype=torch.float)\n",
        "weights = weights.to(device)\n",
        "\n",
        "# loss function\n",
        "cross_entropy  = nn.NLLLoss(weight=weights) \n",
        "\n",
        "# number of training epochs\n",
        "epochs = 5"
      ],
      "execution_count": null,
      "outputs": []
    },
    {
      "cell_type": "markdown",
      "metadata": {
        "id": "DpHMjvirkseu"
      },
      "source": [
        "**Function to calculate the accuracy of our predictions vs labels**"
      ]
    },
    {
      "cell_type": "code",
      "metadata": {
        "id": "kgoftfqKJR83"
      },
      "source": [
        "# Function to calculate the accuracy of our predictions vs labels\n",
        "def flat_accuracy(preds, labels):\n",
        "    pred_flat = np.argmax(preds, axis=1).flatten()\n",
        "    labels_flat = labels.flatten()\n",
        "    return np.sum(pred_flat == labels_flat) / len(labels_flat)\n",
        "\n",
        "def format_time(elapsed):\n",
        "    '''\n",
        "    Takes a time in seconds and returns a string hh:mm:ss\n",
        "    '''\n",
        "    # Round to the nearest second.\n",
        "    elapsed_rounded = int(round((elapsed)))\n",
        "    \n",
        "    # Format as hh:mm:ss\n",
        "    return str(datetime.timedelta(seconds=elapsed_rounded))\n"
      ],
      "execution_count": null,
      "outputs": []
    },
    {
      "cell_type": "markdown",
      "metadata": {
        "id": "g8IzP7tmkTA4"
      },
      "source": [
        "**Fine-Tune BERT**"
      ]
    },
    {
      "cell_type": "code",
      "metadata": {
        "id": "NsAAqlxjEKuc"
      },
      "source": [
        "# function to train the model\n",
        "def train():\n",
        "  \n",
        "  model.train()\n",
        "\n",
        "  total_loss, total_accuracy = 0, 0\n",
        "  \n",
        "  # empty list to save model predictions\n",
        "  total_preds=[]\n",
        "  \n",
        "  # Calculate elapsed time in minutes.\n",
        "  t0 = time.time()\n",
        "  # iterate over batches\n",
        "\n",
        "  for step,batch in enumerate(train_dataloader):\n",
        "\n",
        "    # progress update after every 50 batches.\n",
        "    if step % 100 == 0 and not step == 0:\n",
        "      print('  Batch {:>5,}  of  {:>5,}.'.format(step, len(train_dataloader)))\n",
        "\n",
        "    # push the batch to gpu\n",
        "    batch = [r.to(device) for r in batch]\n",
        " \n",
        "    #sent_id, mask, labels = batch   \n",
        "    sent_id, segments, mask, labels = batch\n",
        "\n",
        "    # clear previously calculated gradients \n",
        "    model.zero_grad()        \n",
        "\n",
        "    # get model predictions for the current batch\n",
        "    #preds = model(sent_id, mask)\n",
        "    preds = model(sent_id,mask,segments)\n",
        "    features = preds[0][:,0,:].numpy()\n",
        "\n",
        "    # compute the loss between actual and predicted values\n",
        "    loss = cross_entropy(preds, labels)\n",
        "\n",
        "    # add on to the total loss\n",
        "    total_loss = total_loss + loss.item()\n",
        "\n",
        "    # backward pass to calculate the gradients\n",
        "    loss.backward()\n",
        "\n",
        "    # clip the the gradients to 1.0. It helps in preventing the exploding gradient problem\n",
        "    torch.nn.utils.clip_grad_norm_(model.parameters(), 1.0)\n",
        "\n",
        "    # update parameters\n",
        "    optimizer.step()\n",
        "\n",
        "    # model predictions are stored on GPU. So, push it to CPU\n",
        "    preds=preds.detach().cpu().numpy()\n",
        "\n",
        "    # append the model predictions\n",
        "    total_preds.append(preds)\n",
        "\n",
        "  # compute the training loss of the epoch\n",
        "  avg_loss = total_loss / len(train_dataloader)\n",
        "\n",
        "  # Measure how long this epoch took\n",
        "  elapsed = format_time(time.time() - t0)\n",
        "\n",
        "  print(\"\")\n",
        "  print(\"  Average training loss: {0:.3f}\".format(avg_loss))\n",
        "  print(\"  Training epcoh took: {:}\".format(elapsed))\n",
        "\n",
        "  # predictions are in the form of (no. of batches, size of batch, no. of classes).\n",
        "  # reshape the predictions in form of (number of samples, no. of classes)\n",
        "  total_preds  = np.concatenate(total_preds, axis=0)\n",
        "\n",
        "  #returns the loss and predictions\n",
        "  return avg_loss, elapsed, total_preds, features"
      ],
      "execution_count": null,
      "outputs": []
    },
    {
      "cell_type": "code",
      "metadata": {
        "id": "h_Y3U4TQHlnG"
      },
      "source": [
        "# function for evaluating the model\n",
        "def evaluate():\n",
        "  \n",
        "  print(\"\\nEvaluating...\")\n",
        "  \n",
        "  # deactivate dropout layers\n",
        "  model.eval()\n",
        "\n",
        "  total_loss, total_accuracy, total_eval_accuracy = 0, 0, 0\n",
        "  \n",
        "  # empty list to save the model predictions\n",
        "  total_preds = []\n",
        "\n",
        "  # Calculate elapsed time in minutes.\n",
        "  t0 = time.time()\n",
        "\n",
        "\n",
        "  # iterate over batches\n",
        "  for step,batch in enumerate(val_dataloader):\n",
        "    \n",
        "    # Progress update every 50 batches.\n",
        "    if step % 50 == 0 and not step == 0:\n",
        "            \n",
        "      # Report progress.\n",
        "      print('  Batch {:>5,}  of  {:>5,}.'.format(step, len(val_dataloader)))\n",
        "\n",
        "    # push the batch to gpu\n",
        "    batch = [t.to(device) for t in batch]\n",
        "\n",
        "    #sent_id, mask, labels = batch\n",
        "    sent_id, segments, mask, labels = batch\n",
        "\n",
        "    # deactivate autograd\n",
        "    with torch.no_grad(): #Torch.no_Grad turns off the gradient calculation, saves memory, and speeds up the calculation (we don’t need gradient or backpropagation, because we just propagate forward\n",
        "      \n",
        "      # model predictions\n",
        "      #preds = model(sent_id, mask)\n",
        "      preds = model(sent_id,mask,segments)\n",
        "      features = preds[0][:,0,:].numpy()\n",
        "\n",
        "      # compute the validation loss between actual and predicted values\n",
        "      loss = cross_entropy(preds,labels)\n",
        "\n",
        "      total_loss = total_loss + loss.item()\n",
        "\n",
        "      preds = preds.detach().cpu().numpy()\n",
        "      label_ids = labels.to('cpu').numpy()\n",
        "\n",
        "      total_preds.append(preds)\n",
        "\n",
        "      # Calculate the accuracy for this batch of test sentences, and\n",
        "      # accumulate it over all batches.\n",
        "      total_eval_accuracy += flat_accuracy(preds, label_ids)\n",
        "  \n",
        "  # Report the final accuracy for this validation run.\n",
        "  avg_val_accuracy = total_eval_accuracy / len(val_dataloader)\n",
        "  print(\"\\n  Accuracy: {0:.2f}\".format(avg_val_accuracy))\n",
        "\n",
        "  # compute the validation loss of the epoch\n",
        "  avg_loss = total_loss / len(val_dataloader)\n",
        "\n",
        "  # Measure how long this epoch took\n",
        "  elapsed = format_time(time.time() - t0)\n",
        "\n",
        "  print(\"  Validation Loss: {0:.3f}\".format(avg_loss))\n",
        "  print(\"  Validation took: {:}\".format(elapsed))\n",
        "\n",
        "  # reshape the predictions in form of (number of samples, no. of classes)\n",
        "  total_preds  = np.concatenate(total_preds, axis=0)\n",
        "\n",
        "  return avg_loss, elapsed, avg_val_accuracy, total_preds, features"
      ],
      "execution_count": null,
      "outputs": []
    },
    {
      "cell_type": "code",
      "metadata": {
        "id": "T4uADsJCHlp9"
      },
      "source": [
        "# set initial loss to infinite\n",
        "best_valid_loss = float('inf')\n",
        "\n",
        "# empty lists to store training and validation loss of each epoch\n",
        "train_losses=[]\n",
        "valid_losses=[]\n",
        "training_stats = []\n",
        "\n",
        "#for each epoch\n",
        "for epoch in range(epochs):\n",
        "     \n",
        "    print('\\n Epoch {:} / {:}'.format(epoch + 1, epochs))\n",
        "    \n",
        "    #train model\n",
        "    train_loss, training_time, _ = train()\n",
        "    \n",
        "    #evaluate model\n",
        "    valid_loss, validation_time, avg_val_accuracy, _ = evaluate()\n",
        "    \n",
        "    #save the best model\n",
        "    if valid_loss < best_valid_loss:\n",
        "        best_valid_loss = valid_loss\n",
        "        torch.save(model.state_dict(), 'saved_weights.pt')\n",
        "    \n",
        "    # append training and validation loss\n",
        "    #train_losses.append(train_loss)\n",
        "    #valid_losses.append(valid_loss)\n",
        "    \n",
        "    #print(f'\\nTraining Loss: {train_loss:.3f}')\n",
        "    #print(f'Validation Loss: {valid_loss:.3f}')\n",
        "\n",
        "    # Record all statistics from this epoch.\n",
        "    training_stats.append(\n",
        "        {\n",
        "            'epoch': epoch + 1,\n",
        "            'Training Loss': train_loss,\n",
        "            'Valid. Loss': valid_loss,\n",
        "            'Valid. Accur.': avg_val_accuracy,\n",
        "            'Training Time': training_time,\n",
        "            'Validation Time': validation_time\n",
        "        }\n",
        "    )"
      ],
      "execution_count": null,
      "outputs": []
    },
    {
      "cell_type": "code",
      "metadata": {
        "colab": {
          "base_uri": "https://localhost:8080/",
          "height": 235
        },
        "id": "lAAysh12ZNHA",
        "outputId": "03b813a5-5dca-4116-962a-e255020c4bf2"
      },
      "source": [
        "pd.set_option('precision', 2)\n",
        "\n",
        "# Create a DataFrame from our training statistics.\n",
        "df_stats = pd.DataFrame(data=training_stats)\n",
        "\n",
        "# Use the 'epoch' as the row index.\n",
        "df_stats = df_stats.set_index('epoch')\n",
        "\n",
        "# Display the table.\n",
        "df_stats"
      ],
      "execution_count": null,
      "outputs": [
        {
          "output_type": "execute_result",
          "data": {
            "text/html": [
              "<div>\n",
              "<style scoped>\n",
              "    .dataframe tbody tr th:only-of-type {\n",
              "        vertical-align: middle;\n",
              "    }\n",
              "\n",
              "    .dataframe tbody tr th {\n",
              "        vertical-align: top;\n",
              "    }\n",
              "\n",
              "    .dataframe thead th {\n",
              "        text-align: right;\n",
              "    }\n",
              "</style>\n",
              "<table border=\"1\" class=\"dataframe\">\n",
              "  <thead>\n",
              "    <tr style=\"text-align: right;\">\n",
              "      <th></th>\n",
              "      <th>Training Loss</th>\n",
              "      <th>Valid. Loss</th>\n",
              "      <th>Valid. Accur.</th>\n",
              "      <th>Training Time</th>\n",
              "      <th>Validation Time</th>\n",
              "    </tr>\n",
              "    <tr>\n",
              "      <th>epoch</th>\n",
              "      <th></th>\n",
              "      <th></th>\n",
              "      <th></th>\n",
              "      <th></th>\n",
              "      <th></th>\n",
              "    </tr>\n",
              "  </thead>\n",
              "  <tbody>\n",
              "    <tr>\n",
              "      <th>1</th>\n",
              "      <td>0.34</td>\n",
              "      <td>0.31</td>\n",
              "      <td>0.97</td>\n",
              "      <td>1:30:57</td>\n",
              "      <td>0:07:33</td>\n",
              "    </tr>\n",
              "    <tr>\n",
              "      <th>2</th>\n",
              "      <td>0.21</td>\n",
              "      <td>0.28</td>\n",
              "      <td>0.97</td>\n",
              "      <td>1:31:11</td>\n",
              "      <td>0:07:29</td>\n",
              "    </tr>\n",
              "    <tr>\n",
              "      <th>3</th>\n",
              "      <td>0.16</td>\n",
              "      <td>0.26</td>\n",
              "      <td>0.98</td>\n",
              "      <td>1:31:14</td>\n",
              "      <td>0:07:32</td>\n",
              "    </tr>\n",
              "    <tr>\n",
              "      <th>4</th>\n",
              "      <td>0.14</td>\n",
              "      <td>0.17</td>\n",
              "      <td>0.98</td>\n",
              "      <td>1:30:48</td>\n",
              "      <td>0:07:30</td>\n",
              "    </tr>\n",
              "    <tr>\n",
              "      <th>5</th>\n",
              "      <td>0.13</td>\n",
              "      <td>0.20</td>\n",
              "      <td>0.98</td>\n",
              "      <td>1:30:45</td>\n",
              "      <td>0:07:33</td>\n",
              "    </tr>\n",
              "  </tbody>\n",
              "</table>\n",
              "</div>"
            ],
            "text/plain": [
              "       Training Loss  Valid. Loss  Valid. Accur. Training Time Validation Time\n",
              "epoch                                                                         \n",
              "1               0.34         0.31           0.97       1:30:57         0:07:33\n",
              "2               0.21         0.28           0.97       1:31:11         0:07:29\n",
              "3               0.16         0.26           0.98       1:31:14         0:07:32\n",
              "4               0.14         0.17           0.98       1:30:48         0:07:30\n",
              "5               0.13         0.20           0.98       1:30:45         0:07:33"
            ]
          },
          "metadata": {
            "tags": []
          },
          "execution_count": 33
        }
      ]
    },
    {
      "cell_type": "code",
      "metadata": {
        "colab": {
          "base_uri": "https://localhost:8080/",
          "height": 427
        },
        "id": "c77iGKVJg8hY",
        "outputId": "ac8800eb-b6b3-4db5-8703-a3fd5a1cff93"
      },
      "source": [
        "import matplotlib.pyplot as plt\n",
        "% matplotlib inline\n",
        "\n",
        "import seaborn as sns\n",
        "\n",
        "# Use plot styling from seaborn.\n",
        "sns.set(style='darkgrid')\n",
        "\n",
        "# Increase the plot size and font size.\n",
        "sns.set(font_scale=1.5)\n",
        "plt.rcParams[\"figure.figsize\"] = (12,6)\n",
        "\n",
        "# Plot the learning curve.\n",
        "plt.plot(df_stats['Training Loss'], 'b-o', label=\"Training\")\n",
        "plt.plot(df_stats['Valid. Loss'], 'g-o', label=\"Validation\")\n",
        "\n",
        "# Label the plot.\n",
        "plt.title(\"Training & Validation Loss\")\n",
        "plt.xlabel(\"Epoch\")\n",
        "plt.ylabel(\"Loss\")\n",
        "plt.legend()\n",
        "plt.xticks([1, 2, 3, 4, 5])\n",
        "\n",
        "plt.show()"
      ],
      "execution_count": null,
      "outputs": [
        {
          "output_type": "display_data",
          "data": {
            "image/png": "[encoded data removed]",
            "text/plain": [
              "<Figure size 864x432 with 1 Axes>"
            ]
          },
          "metadata": {
            "tags": []
          }
        }
      ]
    },
    {
      "cell_type": "markdown",
      "metadata": {
        "id": "kBBL4tDNlL7j"
      },
      "source": [
        "**Make Predictions**"
      ]
    },
    {
      "cell_type": "code",
      "metadata": {
        "id": "MvvAo4xOEKxv",
        "colab": {
          "base_uri": "https://localhost:8080/"
        },
        "outputId": "e97d65c7-489a-4e56-f8f3-8bbd420901eb"
      },
      "source": [
        "#load weights of best model\n",
        "path = 'saved_weights.pt'\n",
        "model.load_state_dict(torch.load(path))"
      ],
      "execution_count": null,
      "outputs": [
        {
          "output_type": "execute_result",
          "data": {
            "text/plain": [
              "<All keys matched successfully>"
            ]
          },
          "metadata": {
            "tags": []
          },
          "execution_count": 35
        }
      ]
    },
    {
      "cell_type": "code",
      "metadata": {
        "id": "CWUYyCbOWwNc"
      },
      "source": [
        "preds_all = []\n",
        "\n",
        "with torch.no_grad(): #Torch.no_Grad turns off the gradient calculation, saves memory, and speeds up the calculation (we don’t need gradient or backpropagation, because we just propagate forward\n",
        "  for seq, attn_masks, token_type_ids, _ in test_dataloader:\n",
        "    seq, attn_masks, token_type_ids = seq.to(device), attn_masks.to(device), token_type_ids.to(device)\n",
        "    preds = model(seq, token_type_ids, attn_masks)\n",
        "    preds = preds.detach().cpu().numpy()\n",
        "    preds_all += preds.tolist()"
      ],
      "execution_count": null,
      "outputs": []
    },
    {
      "cell_type": "code",
      "metadata": {
        "id": "jF5Dyjr_EK2k",
        "colab": {
          "base_uri": "https://localhost:8080/"
        },
        "outputId": "fcc6d8ae-4b07-4342-e2eb-7f161e98e607"
      },
      "source": [
        "# model's performance\n",
        "test_y = torch.tensor(df_test['label'].tolist())\n",
        "predictions = np.argmax(preds_all, axis = 1)\n",
        "print(classification_report(test_y, predictions))"
      ],
      "execution_count": null,
      "outputs": [
        {
          "output_type": "stream",
          "text": [
            "              precision    recall  f1-score   support\n",
            "\n",
            "           0       0.91      0.89      0.90       975\n",
            "           1       0.81      0.83      0.82       525\n",
            "\n",
            "    accuracy                           0.87      1500\n",
            "   macro avg       0.86      0.86      0.86      1500\n",
            "weighted avg       0.87      0.87      0.87      1500\n",
            "\n"
          ],
          "name": "stdout"
        }
      ]
    },
    {
      "cell_type": "code",
      "metadata": {
        "id": "GmvOOCj-Dj2P",
        "colab": {
          "base_uri": "https://localhost:8080/",
          "height": 142
        },
        "outputId": "4c6b79ca-4845-46e8-db9f-dfd17a169275"
      },
      "source": [
        "# confusion matrix\n",
        "pd.crosstab(test_y, predictions)"
      ],
      "execution_count": null,
      "outputs": [
        {
          "output_type": "execute_result",
          "data": {
            "text/html": [
              "<div>\n",
              "<style scoped>\n",
              "    .dataframe tbody tr th:only-of-type {\n",
              "        vertical-align: middle;\n",
              "    }\n",
              "\n",
              "    .dataframe tbody tr th {\n",
              "        vertical-align: top;\n",
              "    }\n",
              "\n",
              "    .dataframe thead th {\n",
              "        text-align: right;\n",
              "    }\n",
              "</style>\n",
              "<table border=\"1\" class=\"dataframe\">\n",
              "  <thead>\n",
              "    <tr style=\"text-align: right;\">\n",
              "      <th>col_0</th>\n",
              "      <th>0</th>\n",
              "      <th>1</th>\n",
              "    </tr>\n",
              "    <tr>\n",
              "      <th>row_0</th>\n",
              "      <th></th>\n",
              "      <th></th>\n",
              "    </tr>\n",
              "  </thead>\n",
              "  <tbody>\n",
              "    <tr>\n",
              "      <th>0</th>\n",
              "      <td>871</td>\n",
              "      <td>104</td>\n",
              "    </tr>\n",
              "    <tr>\n",
              "      <th>1</th>\n",
              "      <td>91</td>\n",
              "      <td>434</td>\n",
              "    </tr>\n",
              "  </tbody>\n",
              "</table>\n",
              "</div>"
            ],
            "text/plain": [
              "col_0    0    1\n",
              "row_0          \n",
              "0      871  104\n",
              "1       91  434"
            ]
          },
          "metadata": {
            "tags": []
          },
          "execution_count": 39
        }
      ]
    },
    {
      "cell_type": "code",
      "metadata": {
        "id": "JWExo5ptkB3K"
      },
      "source": [
        ""
      ],
      "execution_count": null,
      "outputs": []
    },
    {
      "cell_type": "code",
      "metadata": {
        "id": "yxb0pOcXkCBm"
      },
      "source": [
        ""
      ],
      "execution_count": null,
      "outputs": []
    },
    {
      "cell_type": "code",
      "metadata": {
        "id": "YIP1ZePvkCEc"
      },
      "source": [
        ""
      ],
      "execution_count": null,
      "outputs": []
    }
  ]
}